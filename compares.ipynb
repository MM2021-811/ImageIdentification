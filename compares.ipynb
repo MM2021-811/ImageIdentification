{
 "cells": [
  {
   "cell_type": "code",
   "execution_count": null,
   "metadata": {},
   "outputs": [],
   "source": [
    "# test search result\n",
    "# exact match keep the record for later step\n",
    "from util.vearchutil import ImageSearch, VearchUtil\n",
    "from pprint import pprint\n",
    "from PIL import Image\n",
    "import cv2\n",
    "from pathlib import Path\n",
    "import matplotlib.pyplot as plt\n",
    "import numpy as np\n",
    "from util.testutil import TestUtil\n",
    "\n",
    "import torch\n",
    "import torchvision.transforms as T"
   ]
  },
  {
   "cell_type": "code",
   "execution_count": 1,
   "metadata": {},
   "outputs": [
    {
     "name": "stderr",
     "output_type": "stream",
     "text": [
      "INFO 2021-12-01 19:11:05,399 load_bottles 879754 139881438574400 create_dataset_metadata(100)\n"
     ]
    }
   ],
   "source": [
    "from util.load_bottles import create_dataset_metadata\n",
    "# create_dataset_metadata()\n",
    "create_dataset_metadata(data_path=\"./data/zerobox_light\")"
   ]
  },
  {
   "cell_type": "code",
   "execution_count": 1,
   "metadata": {},
   "outputs": [
    {
     "name": "stdout",
     "output_type": "stream",
     "text": [
      "{\"code\":550,\"msg\":\"dbname bottle is exists\"}\n",
      "256\n",
      "{\"code\":200,\"msg\":\"success\"}\n"
     ]
    },
    {
     "name": "stderr",
     "output_type": "stream",
     "text": [
      "INFO 2021-12-02 16:18:22,127 load_bottles 69739 139635712112448 load_data_to_vearch(./data/zerobox,alexnet)\n"
     ]
    },
    {
     "name": "stdout",
     "output_type": "stream",
     "text": [
      "b'{\"code\":200,\"msg\":\"success\",\"data\":{\"id\":7,\"name\":\"alexnet\",\"version\":2,\"db_id\":1,\"enabled\":true,\"partitions\":[{\"id\":31,\"space_id\":7,\"db_id\":1,\"partition_slot\":0,\"replicas\":[1]},{\"id\":32,\"space_id\":7,\"db_id\":1,\"partition_slot\":1073741823,\"replicas\":[1]},{\"id\":33,\"space_id\":7,\"db_id\":1,\"partition_slot\":2147483646,\"replicas\":[1]},{\"id\":34,\"space_id\":7,\"db_id\":1,\"partition_slot\":3221225469,\"replicas\":[1]}],\"partition_num\":4,\"replica_num\":1,\"properties\":{\"image_name\": {\"type\": \"keyword\", \"index\": true}, \"image\": {\"type\": \"vector\", \"dimension\": 256, \"format\": \"normalization\"}, \"model_name\": {\"type\": \"keyword\", \"index\": true}, \"keyword\": {\"type\": \"keyword\", \"index\": true}, \"tags\": {\"type\": \"string\", \"array\": true, \"index\": true}, \"uuid\": {\"type\": \"keyword\", \"index\": true}, \"sid\": {\"type\": \"keyword\", \"index\": true}},\"engine\":{\"name\":\"gamma\",\"index_size\":70000,\"metric_type\":\"InnerProduct\",\"retrieval_type\":\"IVFPQ\",\"retrieval_param\":{\"metric_type\": \"InnerProduct\", \"ncentroids\": 256, \"nsubvector\": 32},\"id_type\":\"String\"},\"space_properties\":{\"image_name\":{\"field_type\":4,\"type\":\"keyword\",\"index\":true,\"option\":1},\"image\":{\"field_type\":5,\"type\":\"vector\",\"format\":\"normalization\",\"dimension\":256,\"option\":1},\"model_name\":{\"field_type\":4,\"type\":\"keyword\",\"index\":true,\"option\":1},\"keyword\":{\"field_type\":4,\"type\":\"keyword\",\"index\":true,\"option\":1},\"tags\":{\"field_type\":4,\"type\":\"string\",\"index\":true,\"array\":true,\"option\":1},\"uuid\":{\"field_type\":4,\"type\":\"keyword\",\"index\":true,\"option\":1},\"sid\":{\"field_type\":4,\"type\":\"keyword\",\"index\":true,\"option\":1}}}}'\n",
      "b'{\"code\":200,\"msg\":\"success\",\"data\":{\"id\":7,\"name\":\"alexnet\",\"version\":2,\"db_id\":1,\"enabled\":true,\"partitions\":[{\"id\":31,\"space_id\":7,\"db_id\":1,\"partition_slot\":0,\"replicas\":[1]},{\"id\":32,\"space_id\":7,\"db_id\":1,\"partition_slot\":1073741823,\"replicas\":[1]},{\"id\":33,\"space_id\":7,\"db_id\":1,\"partition_slot\":2147483646,\"replicas\":[1]},{\"id\":34,\"space_id\":7,\"db_id\":1,\"partition_slot\":3221225469,\"replicas\":[1]}],\"partition_num\":4,\"replica_num\":1,\"properties\":{\"image_name\":{\"type\":\"keyword\",\"index\":true},\"image\":{\"type\":\"vector\",\"dimension\":256,\"format\":\"normalization\"},\"model_name\":{\"type\":\"keyword\",\"index\":true},\"keyword\":{\"type\":\"keyword\",\"index\":true},\"tags\":{\"type\":\"string\",\"array\":true,\"index\":true},\"uuid\":{\"type\":\"keyword\",\"index\":true},\"sid\":{\"type\":\"keyword\",\"index\":true}},\"engine\":{\"name\":\"gamma\",\"index_size\":70000,\"metric_type\":\"InnerProduct\",\"retrieval_type\":\"IVFPQ\",\"retrieval_param\":{\"metric_type\":\"InnerProduct\",\"ncentroids\":256,\"nsubvector\":32},\"id_type\":\"String\"},\"space_properties\":{\"uuid\":{\"field_type\":4,\"type\":\"keyword\",\"index\":true,\"option\":1},\"image\":{\"field_type\":5,\"type\":\"vector\",\"format\":\"normalization\",\"dimension\":256,\"option\":1},\"image_name\":{\"field_type\":4,\"type\":\"keyword\",\"index\":true,\"option\":1},\"keyword\":{\"field_type\":4,\"type\":\"keyword\",\"index\":true,\"option\":1},\"model_name\":{\"field_type\":4,\"type\":\"keyword\",\"index\":true,\"option\":1},\"sid\":{\"field_type\":4,\"type\":\"keyword\",\"index\":true,\"option\":1},\"tags\":{\"field_type\":4,\"type\":\"string\",\"index\":true,\"array\":true,\"option\":1}}}}'\n"
     ]
    }
   ],
   "source": [
    "from util.load_bottles import load_data_to_vearch\n",
    "from init_vearch_local import create_space,delete_space,create_db\n",
    "from util.vearchutil import VearchUtil\n",
    "\n",
    "db_name=\"bottle\"\n",
    "create_db(db_name)\n",
    "\n",
    "model_name = \"alexnet\"\n",
    "image_name = \"./data/zerobox/images/blackbottles/00001.png\"\n",
    "util = VearchUtil(model_name=model_name)\n",
    "item = util.extract_feature(image=image_name)\n",
    "feature_dim = len(item)\n",
    "print(feature_dim)\n",
    "\n",
    "delete_space(\"bottle\",model_name)\n",
    "create_space(\"bottle\",model_name,feature_dim=feature_dim,partition=4)\n",
    "load_data_to_vearch(model_name=model_name)\n"
   ]
  },
  {
   "cell_type": "code",
   "execution_count": 2,
   "metadata": {},
   "outputs": [
    {
     "name": "stderr",
     "output_type": "stream",
     "text": [
      "INFO 2021-12-02 16:18:33,999 testutil 69739 139635712112448 TestUtil test alexnet\n"
     ]
    },
    {
     "name": "stdout",
     "output_type": "stream",
     "text": [
      "              babyblue01  babyblue02  beige01  blackbottles  blackcup  \\\n",
      "babyblue01           0.0         0.0      0.0           0.0       0.0   \n",
      "babyblue02           0.0         1.0      0.0           0.0       0.0   \n",
      "beige01              2.0         0.0      2.0           0.0       0.0   \n",
      "blackbottles         0.0         0.0      0.0          21.0       0.0   \n",
      "blackcup             0.0         0.0      0.0           0.0       2.0   \n",
      "blacktumbler         0.0         0.0      0.0           0.0       0.0   \n",
      "blue                 0.0         0.0      0.0           0.0       0.0   \n",
      "lavender01           0.0         0.0      0.0           0.0       0.0   \n",
      "notfound             0.0         0.0      0.0           0.0       0.0   \n",
      "red01                0.0         0.0      0.0           0.0       0.0   \n",
      "red02                0.0         0.0      0.0           0.0       0.0   \n",
      "silver               0.0         0.0      0.0           0.0       0.0   \n",
      "white                0.0         0.0      0.0           0.0       0.0   \n",
      "white01              0.0         0.0      0.0           0.0       0.0   \n",
      "white02              1.0         0.0      1.0           0.0       0.0   \n",
      "white03              0.0         0.0      0.0           0.0       0.0   \n",
      "whitecup             0.0         0.0      0.0           0.0       0.0   \n",
      "yellow02             0.0         0.0      0.0           0.0       0.0   \n",
      "yellow03             0.0         2.0      0.0           0.0       0.0   \n",
      "\n",
      "              blacktumbler  blue  lavender01  notfound  red01  red02  silver  \\\n",
      "babyblue01             0.0   0.0         0.0       0.0    0.0    1.0     0.0   \n",
      "babyblue02             0.0   0.0         0.0       0.0    0.0    0.0     0.0   \n",
      "beige01                0.0   0.0         0.0       0.0    0.0    0.0     0.0   \n",
      "blackbottles           0.0   0.0         0.0       0.0    0.0    0.0     0.0   \n",
      "blackcup               0.0   0.0         0.0       0.0    0.0    0.0     0.0   \n",
      "blacktumbler           5.0   0.0         0.0       0.0    0.0    0.0     0.0   \n",
      "blue                   0.0   5.0         0.0       0.0    0.0    0.0     0.0   \n",
      "lavender01             0.0   0.0         1.0       0.0    0.0    1.0     0.0   \n",
      "notfound               0.0   0.0         0.0       0.0    0.0    0.0     0.0   \n",
      "red01                  0.0   0.0         0.0       0.0    5.0    0.0     0.0   \n",
      "red02                  0.0   0.0         0.0       0.0    0.0    3.0     0.0   \n",
      "silver                 0.0   0.0         0.0       0.0    0.0    0.0     7.0   \n",
      "white                  0.0   0.0         0.0       0.0    0.0    0.0     0.0   \n",
      "white01                0.0   0.0         0.0       0.0    0.0    0.0     0.0   \n",
      "white02                0.0   0.0         0.0       0.0    0.0    0.0     0.0   \n",
      "white03                0.0   0.0         1.0       0.0    0.0    0.0     0.0   \n",
      "whitecup               0.0   0.0         0.0       0.0    0.0    0.0     0.0   \n",
      "yellow02               0.0   0.0         0.0       0.0    0.0    0.0     0.0   \n",
      "yellow03               0.0   0.0         0.0       0.0    0.0    0.0     0.0   \n",
      "\n",
      "              white  white01  white02  white03  whitecup  yellow02  yellow03  \n",
      "babyblue01      0.0      0.0      0.0      0.0       0.0       1.0       0.0  \n",
      "babyblue02      0.0      0.0      0.0      0.0       0.0       0.0       0.0  \n",
      "beige01         0.0      0.0      0.0      0.0       0.0       0.0       0.0  \n",
      "blackbottles    0.0      0.0      0.0      0.0       0.0       0.0       0.0  \n",
      "blackcup        0.0      0.0      0.0      0.0       0.0       0.0       0.0  \n",
      "blacktumbler    0.0      0.0      0.0      0.0       0.0       0.0       0.0  \n",
      "blue            0.0      0.0      0.0      0.0       0.0       0.0       0.0  \n",
      "lavender01      0.0      0.0      0.0      0.0       0.0       0.0       0.0  \n",
      "notfound        0.0      0.0      0.0      0.0       0.0       0.0       0.0  \n",
      "red01           0.0      0.0      0.0      0.0       0.0       0.0       0.0  \n",
      "red02           0.0      0.0      0.0      0.0       0.0       0.0       0.0  \n",
      "silver          0.0      0.0      0.0      0.0       0.0       0.0       0.0  \n",
      "white           7.0      0.0      0.0      0.0       2.0       0.0       0.0  \n",
      "white01         0.0      1.0      0.0      0.0       0.0       0.0       0.0  \n",
      "white02         0.0      0.0      0.0      0.0       0.0       0.0       0.0  \n",
      "white03         0.0      0.0      0.0      0.0       0.0       0.0       0.0  \n",
      "whitecup        0.0      0.0      0.0      0.0       5.0       0.0       0.0  \n",
      "yellow02        0.0      0.0      0.0      0.0       0.0       1.0       0.0  \n",
      "yellow03        0.0      0.0      0.0      0.0       0.0       0.0       0.0  \n",
      "'Final accuracy: 0.8461538461538461'\n",
      "Wrong results:\n",
      "['./data/zerobox/images/white/000042.png',\n",
      " './data/zerobox/images/white/000044.png',\n",
      " './data/zerobox/images/babyblue01/output0069.png',\n",
      " './data/zerobox/images/babyblue01/output0078.png',\n",
      " './data/zerobox/images/beige01/output0074.png',\n",
      " './data/zerobox/images/beige01/output0072.png',\n",
      " './data/zerobox/images/lavender01/output0084.png',\n",
      " './data/zerobox/images/white02/output0064.png',\n",
      " './data/zerobox/images/white02/output0065.png',\n",
      " './data/zerobox/images/white03/output0065.png',\n",
      " './data/zerobox/images/yellow03/bumbler0021.png',\n",
      " './data/zerobox/images/yellow03/bumbler0022.png']\n"
     ]
    }
   ],
   "source": [
    "from util.testutil import TestUtil\n",
    "from pprint import pprint\n",
    "\n",
    "# batch test results\n",
    "testutil = TestUtil(model_name=\"alexnet\")\n",
    "(accuracy, cmatrix,wrong_results) = testutil.test()\n",
    "\n",
    "pprint(cmatrix)\n",
    "pprint(f\"Final accuracy: {accuracy}\")\n",
    "print(\"Wrong results:\")\n",
    "pprint(wrong_results)"
   ]
  },
  {
   "cell_type": "code",
   "execution_count": 6,
   "metadata": {},
   "outputs": [
    {
     "name": "stdout",
     "output_type": "stream",
     "text": [
      "{\"code\":550,\"msg\":\"dbname bottle is exists\"}\n",
      "512\n",
      "{\"code\":200,\"msg\":\"success\"}\n"
     ]
    },
    {
     "name": "stderr",
     "output_type": "stream",
     "text": [
      "INFO 2021-12-02 16:22:56,577 load_bottles 69739 139635712112448 load_data_to_vearch(./data/zerobox_light,vgg16)\n"
     ]
    },
    {
     "name": "stdout",
     "output_type": "stream",
     "text": [
      "b'{\"code\":200,\"msg\":\"success\",\"data\":{\"id\":9,\"name\":\"vgg16\",\"version\":2,\"db_id\":1,\"enabled\":true,\"partitions\":[{\"id\":39,\"space_id\":9,\"db_id\":1,\"partition_slot\":0,\"replicas\":[1]},{\"id\":40,\"space_id\":9,\"db_id\":1,\"partition_slot\":1073741823,\"replicas\":[1]},{\"id\":41,\"space_id\":9,\"db_id\":1,\"partition_slot\":2147483646,\"replicas\":[1]},{\"id\":42,\"space_id\":9,\"db_id\":1,\"partition_slot\":3221225469,\"replicas\":[1]}],\"partition_num\":4,\"replica_num\":1,\"properties\":{\"image_name\": {\"type\": \"keyword\", \"index\": true}, \"image\": {\"type\": \"vector\", \"dimension\": 512, \"format\": \"normalization\"}, \"model_name\": {\"type\": \"keyword\", \"index\": true}, \"keyword\": {\"type\": \"keyword\", \"index\": true}, \"tags\": {\"type\": \"string\", \"array\": true, \"index\": true}, \"uuid\": {\"type\": \"keyword\", \"index\": true}, \"sid\": {\"type\": \"keyword\", \"index\": true}},\"engine\":{\"name\":\"gamma\",\"index_size\":70000,\"metric_type\":\"InnerProduct\",\"retrieval_type\":\"IVFPQ\",\"retrieval_param\":{\"metric_type\": \"InnerProduct\", \"ncentroids\": 256, \"nsubvector\": 32},\"id_type\":\"String\"},\"space_properties\":{\"tags\":{\"field_type\":4,\"type\":\"string\",\"index\":true,\"array\":true,\"option\":1},\"uuid\":{\"field_type\":4,\"type\":\"keyword\",\"index\":true,\"option\":1},\"sid\":{\"field_type\":4,\"type\":\"keyword\",\"index\":true,\"option\":1},\"image_name\":{\"field_type\":4,\"type\":\"keyword\",\"index\":true,\"option\":1},\"image\":{\"field_type\":5,\"type\":\"vector\",\"format\":\"normalization\",\"dimension\":512,\"option\":1},\"model_name\":{\"field_type\":4,\"type\":\"keyword\",\"index\":true,\"option\":1},\"keyword\":{\"field_type\":4,\"type\":\"keyword\",\"index\":true,\"option\":1}}}}'\n",
      "b'{\"code\":200,\"msg\":\"success\",\"data\":{\"id\":9,\"name\":\"vgg16\",\"version\":2,\"db_id\":1,\"enabled\":true,\"partitions\":[{\"id\":39,\"space_id\":9,\"db_id\":1,\"partition_slot\":0,\"replicas\":[1]},{\"id\":40,\"space_id\":9,\"db_id\":1,\"partition_slot\":1073741823,\"replicas\":[1]},{\"id\":41,\"space_id\":9,\"db_id\":1,\"partition_slot\":2147483646,\"replicas\":[1]},{\"id\":42,\"space_id\":9,\"db_id\":1,\"partition_slot\":3221225469,\"replicas\":[1]}],\"partition_num\":4,\"replica_num\":1,\"properties\":{\"image_name\":{\"type\":\"keyword\",\"index\":true},\"image\":{\"type\":\"vector\",\"dimension\":512,\"format\":\"normalization\"},\"model_name\":{\"type\":\"keyword\",\"index\":true},\"keyword\":{\"type\":\"keyword\",\"index\":true},\"tags\":{\"type\":\"string\",\"array\":true,\"index\":true},\"uuid\":{\"type\":\"keyword\",\"index\":true},\"sid\":{\"type\":\"keyword\",\"index\":true}},\"engine\":{\"name\":\"gamma\",\"index_size\":70000,\"metric_type\":\"InnerProduct\",\"retrieval_type\":\"IVFPQ\",\"retrieval_param\":{\"metric_type\":\"InnerProduct\",\"ncentroids\":256,\"nsubvector\":32},\"id_type\":\"String\"},\"space_properties\":{\"keyword\":{\"field_type\":4,\"type\":\"keyword\",\"index\":true,\"option\":1},\"model_name\":{\"field_type\":4,\"type\":\"keyword\",\"index\":true,\"option\":1},\"sid\":{\"field_type\":4,\"type\":\"keyword\",\"index\":true,\"option\":1},\"tags\":{\"field_type\":4,\"type\":\"string\",\"index\":true,\"array\":true,\"option\":1},\"uuid\":{\"field_type\":4,\"type\":\"keyword\",\"index\":true,\"option\":1},\"image\":{\"field_type\":5,\"type\":\"vector\",\"format\":\"normalization\",\"dimension\":512,\"option\":1},\"image_name\":{\"field_type\":4,\"type\":\"keyword\",\"index\":true,\"option\":1}}}}'\n"
     ]
    }
   ],
   "source": [
    "from util.load_bottles import load_data_to_vearch\n",
    "from init_vearch_local import create_space,delete_space,create_db\n",
    "from util.vearchutil import VearchUtil\n",
    "\n",
    "db_name=\"bottle\"\n",
    "create_db(db_name)\n",
    "\n",
    "model_name = \"vgg16\"\n",
    "image_name = \"./data/zerobox/images/blackbottles/00001.png\"\n",
    "util = VearchUtil(model_name=model_name)\n",
    "item = util.extract_feature(image=image_name)\n",
    "feature_dim = len(item)\n",
    "print(feature_dim)\n",
    "\n",
    "delete_space(\"bottle\",model_name)\n",
    "create_space(\"bottle\",model_name,feature_dim=feature_dim,partition=4)\n",
    "load_data_to_vearch(data_path=\"./data/zerobox_light\", model_name=model_name)"
   ]
  },
  {
   "cell_type": "code",
   "execution_count": 8,
   "metadata": {},
   "outputs": [
    {
     "name": "stderr",
     "output_type": "stream",
     "text": [
      "INFO 2021-12-02 16:24:03,837 testutil 69739 139635712112448 TestUtil test vgg16\n"
     ]
    },
    {
     "name": "stdout",
     "output_type": "stream",
     "text": [
      "'Final accuracy: 0.8421052631578947'\n",
      "            babyblue01  babyblue02  beige01  lavender01  notfound  red01  \\\n",
      "babyblue01         1.0         0.0      0.0         0.0       0.0    0.0   \n",
      "babyblue02         0.0         1.0      0.0         0.0       0.0    0.0   \n",
      "beige01            0.0         0.0      3.0         0.0       0.0    0.0   \n",
      "lavender01         0.0         0.0      0.0         1.0       0.0    0.0   \n",
      "notfound           0.0         0.0      0.0         0.0       0.0    0.0   \n",
      "red01              0.0         0.0      0.0         0.0       0.0    5.0   \n",
      "red02              0.0         0.0      0.0         0.0       0.0    0.0   \n",
      "white              0.0         0.0      0.0         0.0       0.0    0.0   \n",
      "white01            0.0         0.0      0.0         0.0       0.0    0.0   \n",
      "white02            0.0         0.0      1.0         0.0       0.0    0.0   \n",
      "white03            0.0         0.0      0.0         0.0       0.0    0.0   \n",
      "whitecup           0.0         0.0      0.0         0.0       0.0    0.0   \n",
      "yellow02           0.0         0.0      0.0         0.0       0.0    0.0   \n",
      "yellow03           0.0         1.0      0.0         0.0       0.0    0.0   \n",
      "\n",
      "            red02  white  white01  white02  white03  whitecup  yellow02  \\\n",
      "babyblue01    0.0    0.0      0.0      1.0      0.0       0.0       0.0   \n",
      "babyblue02    0.0    0.0      0.0      0.0      0.0       0.0       0.0   \n",
      "beige01       0.0    0.0      0.0      1.0      0.0       0.0       0.0   \n",
      "lavender01    0.0    0.0      0.0      0.0      0.0       0.0       1.0   \n",
      "notfound      0.0    0.0      0.0      0.0      0.0       0.0       0.0   \n",
      "red01         0.0    0.0      0.0      0.0      0.0       0.0       0.0   \n",
      "red02         3.0    0.0      0.0      0.0      0.0       0.0       0.0   \n",
      "white         0.0    9.0      0.0      0.0      0.0       0.0       0.0   \n",
      "white01       0.0    0.0      1.0      0.0      0.0       0.0       0.0   \n",
      "white02       0.0    0.0      0.0      1.0      0.0       0.0       0.0   \n",
      "white03       0.0    0.0      0.0      0.0      1.0       0.0       0.0   \n",
      "whitecup      0.0    0.0      0.0      0.0      0.0       5.0       0.0   \n",
      "yellow02      0.0    0.0      0.0      0.0      0.0       0.0       1.0   \n",
      "yellow03      0.0    0.0      1.0      0.0      0.0       0.0       0.0   \n",
      "\n",
      "            yellow03  \n",
      "babyblue01       0.0  \n",
      "babyblue02       0.0  \n",
      "beige01          0.0  \n",
      "lavender01       0.0  \n",
      "notfound         0.0  \n",
      "red01            0.0  \n",
      "red02            0.0  \n",
      "white            0.0  \n",
      "white01          0.0  \n",
      "white02          0.0  \n",
      "white03          0.0  \n",
      "whitecup         0.0  \n",
      "yellow02         0.0  \n",
      "yellow03         0.0  \n",
      "Wrong results:\n",
      "['./data/zerobox_light/images/babyblue01/output0079.png',\n",
      " './data/zerobox_light/images/beige01/output0072.png',\n",
      " './data/zerobox_light/images/lavender01/output0084.png',\n",
      " './data/zerobox_light/images/white02/output0064.png',\n",
      " './data/zerobox_light/images/yellow03/bumbler0021.png',\n",
      " './data/zerobox_light/images/yellow03/bumbler0022.png']\n"
     ]
    }
   ],
   "source": [
    "# batch test results\n",
    "from util.testutil import TestUtil\n",
    "from pprint import pprint\n",
    "\n",
    "testutil = TestUtil(model_name=\"vgg16\",data_path=\"./data/zerobox_light\")\n",
    "(accuracy, cmatrix,wrong_results) = testutil.test()\n",
    "\n",
    "pprint(f\"Final accuracy: {accuracy}\")\n",
    "pprint(cmatrix)\n",
    "print(\"Wrong results:\")\n",
    "pprint(wrong_results)\n"
   ]
  },
  {
   "cell_type": "code",
   "execution_count": 1,
   "metadata": {},
   "outputs": [
    {
     "name": "stdout",
     "output_type": "stream",
     "text": [
      "{\"code\":550,\"msg\":\"dbname bottle is exists\"}\n",
      "512\n",
      "{\"code\":200,\"msg\":\"success\"}\n"
     ]
    },
    {
     "name": "stderr",
     "output_type": "stream",
     "text": [
      "INFO 2021-12-02 21:15:31,164 load_bottles 94138 140189278263104 load_data_to_vearch(./data/zerobox_nobg,vgg16)\n"
     ]
    },
    {
     "name": "stdout",
     "output_type": "stream",
     "text": [
      "b'{\"code\":200,\"msg\":\"success\",\"data\":{\"id\":10,\"name\":\"vgg16\",\"version\":2,\"db_id\":1,\"enabled\":true,\"partitions\":[{\"id\":43,\"space_id\":10,\"db_id\":1,\"partition_slot\":0,\"replicas\":[1]},{\"id\":44,\"space_id\":10,\"db_id\":1,\"partition_slot\":1073741823,\"replicas\":[1]},{\"id\":45,\"space_id\":10,\"db_id\":1,\"partition_slot\":2147483646,\"replicas\":[1]},{\"id\":46,\"space_id\":10,\"db_id\":1,\"partition_slot\":3221225469,\"replicas\":[1]}],\"partition_num\":4,\"replica_num\":1,\"properties\":{\"image_name\": {\"type\": \"keyword\", \"index\": true}, \"image\": {\"type\": \"vector\", \"dimension\": 512, \"format\": \"normalization\"}, \"model_name\": {\"type\": \"keyword\", \"index\": true}, \"keyword\": {\"type\": \"keyword\", \"index\": true}, \"tags\": {\"type\": \"string\", \"array\": true, \"index\": true}, \"uuid\": {\"type\": \"keyword\", \"index\": true}, \"sid\": {\"type\": \"keyword\", \"index\": true}},\"engine\":{\"name\":\"gamma\",\"index_size\":70000,\"metric_type\":\"InnerProduct\",\"retrieval_type\":\"IVFPQ\",\"retrieval_param\":{\"metric_type\": \"InnerProduct\", \"ncentroids\": 256, \"nsubvector\": 32},\"id_type\":\"String\"},\"space_properties\":{\"model_name\":{\"field_type\":4,\"type\":\"keyword\",\"index\":true,\"option\":1},\"keyword\":{\"field_type\":4,\"type\":\"keyword\",\"index\":true,\"option\":1},\"tags\":{\"field_type\":4,\"type\":\"string\",\"index\":true,\"array\":true,\"option\":1},\"uuid\":{\"field_type\":4,\"type\":\"keyword\",\"index\":true,\"option\":1},\"sid\":{\"field_type\":4,\"type\":\"keyword\",\"index\":true,\"option\":1},\"image_name\":{\"field_type\":4,\"type\":\"keyword\",\"index\":true,\"option\":1},\"image\":{\"field_type\":5,\"type\":\"vector\",\"format\":\"normalization\",\"dimension\":512,\"option\":1}}}}'\n",
      "b'{\"code\":200,\"msg\":\"success\",\"data\":{\"id\":10,\"name\":\"vgg16\",\"version\":2,\"db_id\":1,\"enabled\":true,\"partitions\":[{\"id\":43,\"space_id\":10,\"db_id\":1,\"partition_slot\":0,\"replicas\":[1]},{\"id\":44,\"space_id\":10,\"db_id\":1,\"partition_slot\":1073741823,\"replicas\":[1]},{\"id\":45,\"space_id\":10,\"db_id\":1,\"partition_slot\":2147483646,\"replicas\":[1]},{\"id\":46,\"space_id\":10,\"db_id\":1,\"partition_slot\":3221225469,\"replicas\":[1]}],\"partition_num\":4,\"replica_num\":1,\"properties\":{\"image_name\":{\"type\":\"keyword\",\"index\":true},\"image\":{\"type\":\"vector\",\"dimension\":512,\"format\":\"normalization\"},\"model_name\":{\"type\":\"keyword\",\"index\":true},\"keyword\":{\"type\":\"keyword\",\"index\":true},\"tags\":{\"type\":\"string\",\"array\":true,\"index\":true},\"uuid\":{\"type\":\"keyword\",\"index\":true},\"sid\":{\"type\":\"keyword\",\"index\":true}},\"engine\":{\"name\":\"gamma\",\"index_size\":70000,\"metric_type\":\"InnerProduct\",\"retrieval_type\":\"IVFPQ\",\"retrieval_param\":{\"metric_type\":\"InnerProduct\",\"ncentroids\":256,\"nsubvector\":32},\"id_type\":\"String\"},\"space_properties\":{\"image\":{\"field_type\":5,\"type\":\"vector\",\"format\":\"normalization\",\"dimension\":512,\"option\":1},\"image_name\":{\"field_type\":4,\"type\":\"keyword\",\"index\":true,\"option\":1},\"keyword\":{\"field_type\":4,\"type\":\"keyword\",\"index\":true,\"option\":1},\"model_name\":{\"field_type\":4,\"type\":\"keyword\",\"index\":true,\"option\":1},\"sid\":{\"field_type\":4,\"type\":\"keyword\",\"index\":true,\"option\":1},\"tags\":{\"field_type\":4,\"type\":\"string\",\"index\":true,\"array\":true,\"option\":1},\"uuid\":{\"field_type\":4,\"type\":\"keyword\",\"index\":true,\"option\":1}}}}'\n"
     ]
    }
   ],
   "source": [
    "from util.load_bottles import load_data_to_vearch\n",
    "from init_vearch_local import create_space,delete_space,create_db\n",
    "from util.vearchutil import VearchUtil\n",
    "\n",
    "db_name=\"bottle\"\n",
    "create_db(db_name)\n",
    "\n",
    "model_name = \"vgg16\"\n",
    "image_name = \"./data/zerobox/images/blackbottles/00001.png\"\n",
    "util = VearchUtil(model_name=model_name)\n",
    "item = util.extract_feature(image=image_name)\n",
    "feature_dim = len(item)\n",
    "print(feature_dim)\n",
    "\n",
    "delete_space(\"bottle\",model_name)\n",
    "create_space(\"bottle\",model_name,feature_dim=feature_dim,partition=4)\n",
    "load_data_to_vearch(data_path=\"./data/zerobox_nobg\", model_name=model_name)"
   ]
  },
  {
   "cell_type": "code",
   "execution_count": 4,
   "metadata": {},
   "outputs": [
    {
     "name": "stderr",
     "output_type": "stream",
     "text": [
      "INFO 2021-12-02 21:24:23,065 testutil 94138 140189278263104 TestUtil test vgg16\n"
     ]
    },
    {
     "name": "stdout",
     "output_type": "stream",
     "text": [
      "'Final accuracy: 0.9230769230769231'\n",
      "['./data/zerobox_nobg/images/blackbottles/000037.png',\n",
      " './data/zerobox_nobg/images/white02/output0064.png',\n",
      " './data/zerobox_nobg/images/white02/output0065.png',\n",
      " './data/zerobox_nobg/images/white03/output0065.png',\n",
      " './data/zerobox_nobg/images/yellow03/bumbler0021.png',\n",
      " './data/zerobox_nobg/images/yellow03/bumbler0022.png']\n",
      "              babyblue01  babyblue02  beige01  blackbottles  blackcup  \\\n",
      "babyblue01           2.0         0.0      0.0           0.0       0.0   \n",
      "babyblue02           0.0         1.0      0.0           0.0       0.0   \n",
      "beige01              0.0         0.0      4.0           0.0       0.0   \n",
      "blackbottles         0.0         0.0      0.0          20.0       0.0   \n",
      "blackcup             0.0         0.0      0.0           0.0       2.0   \n",
      "blacktumbler         0.0         0.0      0.0           0.0       0.0   \n",
      "blue                 0.0         0.0      0.0           0.0       0.0   \n",
      "lavender01           0.0         0.0      0.0           0.0       0.0   \n",
      "notfound             0.0         0.0      0.0           0.0       0.0   \n",
      "red01                0.0         0.0      0.0           0.0       0.0   \n",
      "red02                0.0         0.0      0.0           0.0       0.0   \n",
      "silver               0.0         0.0      0.0           0.0       0.0   \n",
      "white                0.0         0.0      0.0           0.0       0.0   \n",
      "white01              0.0         0.0      0.0           0.0       0.0   \n",
      "white02              2.0         0.0      0.0           0.0       0.0   \n",
      "white03              0.0         0.0      1.0           0.0       0.0   \n",
      "whitecup             0.0         0.0      0.0           0.0       0.0   \n",
      "yellow02             0.0         0.0      0.0           0.0       0.0   \n",
      "yellow03             0.0         1.0      0.0           0.0       0.0   \n",
      "\n",
      "              blacktumbler  blue  lavender01  notfound  red01  red02  silver  \\\n",
      "babyblue01             0.0   0.0         0.0       0.0    0.0    0.0     0.0   \n",
      "babyblue02             0.0   0.0         0.0       0.0    0.0    0.0     0.0   \n",
      "beige01                0.0   0.0         0.0       0.0    0.0    0.0     0.0   \n",
      "blackbottles           0.0   0.0         0.0       0.0    0.0    0.0     0.0   \n",
      "blackcup               0.0   0.0         0.0       0.0    0.0    0.0     0.0   \n",
      "blacktumbler           5.0   0.0         0.0       0.0    0.0    0.0     0.0   \n",
      "blue                   0.0   5.0         0.0       0.0    0.0    0.0     0.0   \n",
      "lavender01             0.0   0.0         2.0       0.0    0.0    0.0     0.0   \n",
      "notfound               0.0   0.0         0.0       0.0    0.0    0.0     0.0   \n",
      "red01                  0.0   0.0         0.0       0.0    5.0    0.0     0.0   \n",
      "red02                  0.0   0.0         0.0       0.0    0.0    3.0     0.0   \n",
      "silver                 0.0   0.0         0.0       0.0    0.0    0.0     7.0   \n",
      "white                  0.0   0.0         0.0       0.0    0.0    0.0     0.0   \n",
      "white01                0.0   0.0         0.0       0.0    0.0    0.0     0.0   \n",
      "white02                0.0   0.0         0.0       0.0    0.0    0.0     0.0   \n",
      "white03                0.0   0.0         0.0       0.0    0.0    0.0     0.0   \n",
      "whitecup               0.0   0.0         0.0       0.0    0.0    0.0     0.0   \n",
      "yellow02               0.0   0.0         0.0       0.0    0.0    0.0     0.0   \n",
      "yellow03               0.0   0.0         0.0       0.0    0.0    0.0     0.0   \n",
      "\n",
      "              white  white01  white02  white03  whitecup  yellow02  yellow03  \n",
      "babyblue01      0.0      0.0      0.0      0.0       0.0       0.0       0.0  \n",
      "babyblue02      0.0      0.0      0.0      0.0       0.0       0.0       0.0  \n",
      "beige01         0.0      0.0      0.0      0.0       0.0       0.0       0.0  \n",
      "blackbottles    0.0      0.0      0.0      0.0       1.0       0.0       0.0  \n",
      "blackcup        0.0      0.0      0.0      0.0       0.0       0.0       0.0  \n",
      "blacktumbler    0.0      0.0      0.0      0.0       0.0       0.0       0.0  \n",
      "blue            0.0      0.0      0.0      0.0       0.0       0.0       0.0  \n",
      "lavender01      0.0      0.0      0.0      0.0       0.0       0.0       0.0  \n",
      "notfound        0.0      0.0      0.0      0.0       0.0       0.0       0.0  \n",
      "red01           0.0      0.0      0.0      0.0       0.0       0.0       0.0  \n",
      "red02           0.0      0.0      0.0      0.0       0.0       0.0       0.0  \n",
      "silver          0.0      0.0      0.0      0.0       0.0       0.0       0.0  \n",
      "white           9.0      0.0      0.0      0.0       0.0       0.0       0.0  \n",
      "white01         0.0      1.0      0.0      0.0       0.0       0.0       0.0  \n",
      "white02         0.0      0.0      0.0      0.0       0.0       0.0       0.0  \n",
      "white03         0.0      0.0      0.0      0.0       0.0       0.0       0.0  \n",
      "whitecup        0.0      0.0      0.0      0.0       5.0       0.0       0.0  \n",
      "yellow02        0.0      0.0      0.0      0.0       0.0       1.0       0.0  \n",
      "yellow03        0.0      1.0      0.0      0.0       0.0       0.0       0.0  \n",
      "Wrong results:\n",
      "['./data/zerobox_nobg/images/blackbottles/000037.png',\n",
      " './data/zerobox_nobg/images/white02/output0064.png',\n",
      " './data/zerobox_nobg/images/white02/output0065.png',\n",
      " './data/zerobox_nobg/images/white03/output0065.png',\n",
      " './data/zerobox_nobg/images/yellow03/bumbler0021.png',\n",
      " './data/zerobox_nobg/images/yellow03/bumbler0022.png']\n"
     ]
    }
   ],
   "source": [
    "# batch test results\n",
    "from util.testutil import TestUtil\n",
    "from pprint import pprint\n",
    "\n",
    "testutil = TestUtil(model_name=\"vgg16\",data_path=\"./data/zerobox_nobg\")\n",
    "(accuracy, cmatrix,wrong_results) = testutil.test()\n",
    "\n",
    "pprint(f\"Final accuracy: {accuracy}\")\n",
    "pprint(wrong_results)\n",
    "pprint(cmatrix)\n",
    "print(\"Wrong results:\")\n",
    "pprint(wrong_results)\n"
   ]
  },
  {
   "cell_type": "markdown",
   "metadata": {},
   "source": [
    "```\n",
    "INFO 2021-12-01 19:24:43,278 testutil 888250 139659146700608 TestUtil test vgg16\n",
    "            babyblue01  babyblue02  beige01  lavender01  notfound  red01  red02  white  white01  white02  white03  whitecup  yellow02  yellow03\n",
    "babyblue01         1.0         0.0      0.0         0.0       0.0    0.0    0.0    0.0      0.0      1.0      0.0       0.0       0.0       0.0\n",
    "babyblue02         0.0         1.0      0.0         0.0       0.0    0.0    0.0    0.0      0.0      0.0      0.0       0.0       0.0       0.0\n",
    "beige01            0.0         0.0      3.0         0.0       0.0    0.0    0.0    0.0      0.0      1.0      0.0       0.0       0.0       0.0\n",
    "lavender01         0.0         0.0      0.0         1.0       0.0    0.0    0.0    0.0      0.0      0.0      0.0       0.0       1.0       0.0\n",
    "notfound           0.0         0.0      0.0         0.0       0.0    0.0    0.0    0.0      0.0      0.0      0.0       0.0       0.0       0.0\n",
    "red01              0.0         0.0      0.0         0.0       0.0    5.0    0.0    0.0      0.0      0.0      0.0       0.0       0.0       0.0\n",
    "red02              0.0         0.0      0.0         0.0       0.0    0.0    3.0    0.0      0.0      0.0      0.0       0.0       0.0       0.0\n",
    "white              0.0         0.0      0.0         0.0       0.0    0.0    0.0    9.0      0.0      0.0      0.0       0.0       0.0       0.0\n",
    "white01            0.0         0.0      0.0         0.0       0.0    0.0    0.0    0.0      1.0      0.0      0.0       0.0       0.0       0.0\n",
    "white02            0.0         0.0      1.0         0.0       0.0    0.0    0.0    0.0      0.0      1.0      0.0       0.0       0.0       0.0\n",
    "white03            0.0         0.0      0.0         0.0       0.0    0.0    0.0    0.0      0.0      0.0      1.0       0.0       0.0       0.0\n",
    "whitecup           0.0         0.0      0.0         0.0       0.0    0.0    0.0    0.0      0.0      0.0      0.0       5.0       0.0       0.0\n",
    "yellow02           0.0         0.0      0.0         0.0       0.0    0.0    0.0    0.0      0.0      0.0      0.0       0.0       1.0       0.0\n",
    "yellow03           0.0         1.0      0.0         0.0       0.0    0.0    0.0    0.0      1.0      0.0      0.0       0.0       0.0       0.0\n",
    "'Final accuracy: 0.8421052631578947'\n",
    "Wrong results:\n",
    "['./data/zerobox_light/images/babyblue01/output0079.png',\n",
    " './data/zerobox_light/images/beige01/output0072.png',\n",
    " './data/zerobox_light/images/lavender01/output0084.png',\n",
    " './data/zerobox_light/images/white02/output0064.png',\n",
    " './data/zerobox_light/images/yellow03/bumbler0021.png',\n",
    " './data/zerobox_light/images/yellow03/bumbler0022.png']\n",
    "```"
   ]
  },
  {
   "cell_type": "code",
   "execution_count": null,
   "metadata": {},
   "outputs": [],
   "source": [
    "from util.load_bottles import load_data_to_vearch\n",
    "from init_vearch_local import create_space,delete_space,create_db\n",
    "from util.vearchutil import VearchUtil\n",
    "\n",
    "db_name=\"bottle\"\n",
    "create_db(db_name)\n",
    "\n",
    "model_name = \"resnet\"\n",
    "image_name = \"./data/zerobox/images/blackbottles/00001.png\"\n",
    "util = VearchUtil(model_name=model_name)\n",
    "item = util.extract_feature(image=image_name)\n",
    "feature_dim = len(item)\n",
    "print(feature_dim)\n",
    "\n",
    "delete_space(\"bottle\",model_name)\n",
    "create_space(\"bottle\",model_name,feature_dim=feature_dim,partition=10)\n",
    "load_data_to_vearch(model_name=model_name)"
   ]
  }
 ],
 "metadata": {
  "interpreter": {
   "hash": "a4508d0e2e0be84e90ff361a3824194c554edc39894d10f09a30d81ec9c033e6"
  },
  "kernelspec": {
   "display_name": "Python 3.8.10 64-bit ('.venv': venv)",
   "language": "python",
   "name": "python3"
  },
  "language_info": {
   "codemirror_mode": {
    "name": "ipython",
    "version": 3
   },
   "file_extension": ".py",
   "mimetype": "text/x-python",
   "name": "python",
   "nbconvert_exporter": "python",
   "pygments_lexer": "ipython3",
   "version": "3.8.10"
  },
  "orig_nbformat": 4
 },
 "nbformat": 4,
 "nbformat_minor": 2
}
