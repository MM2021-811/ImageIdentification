{
 "cells": [
  {
   "cell_type": "code",
   "execution_count": 1,
   "metadata": {},
   "outputs": [],
   "source": [
    "# test search result\n",
    "# exact match keep the record for later step\n",
    "from util.vearchutil import ImageSearch, VearchUtil\n",
    "from pprint import pprint\n",
    "from PIL import Image\n",
    "import cv2\n",
    "from pathlib import Path\n",
    "import matplotlib.pyplot as plt\n",
    "import numpy as np\n",
    "from util.testutil import TestUtil\n",
    "\n",
    "import torch\n",
    "import torchvision.transforms as T"
   ]
  },
  {
   "cell_type": "code",
   "execution_count": 2,
   "metadata": {},
   "outputs": [
    {
     "name": "stderr",
     "output_type": "stream",
     "text": [
      "INFO 2021-12-01 18:57:47,824 load_bottles 873590 139993219323712 create_dataset_metadata(100)\n"
     ]
    }
   ],
   "source": [
    "from util.load_bottles import create_dataset_metadata\n",
    "create_dataset_metadata()"
   ]
  },
  {
   "cell_type": "code",
   "execution_count": 1,
   "metadata": {},
   "outputs": [
    {
     "name": "stdout",
     "output_type": "stream",
     "text": [
      "{\"code\":550,\"msg\":\"dbname bottle is exists\"}\n",
      "256\n",
      "{\"code\":565,\"msg\":\"space_notexists\"}\n"
     ]
    },
    {
     "ename": "KeyboardInterrupt",
     "evalue": "",
     "output_type": "error",
     "traceback": [
      "\u001b[0;31m---------------------------------------------------------------------------\u001b[0m",
      "\u001b[0;31mKeyboardInterrupt\u001b[0m                         Traceback (most recent call last)",
      "\u001b[0;32m/tmp/ipykernel_873590/4136232638.py\u001b[0m in \u001b[0;36m<module>\u001b[0;34m\u001b[0m\n\u001b[1;32m     14\u001b[0m \u001b[0;34m\u001b[0m\u001b[0m\n\u001b[1;32m     15\u001b[0m \u001b[0mdelete_space\u001b[0m\u001b[0;34m(\u001b[0m\u001b[0;34m\"bottle\"\u001b[0m\u001b[0;34m,\u001b[0m\u001b[0mmodel_name\u001b[0m\u001b[0;34m)\u001b[0m\u001b[0;34m\u001b[0m\u001b[0;34m\u001b[0m\u001b[0m\n\u001b[0;32m---> 16\u001b[0;31m \u001b[0mcreate_space\u001b[0m\u001b[0;34m(\u001b[0m\u001b[0;34m\"bottle\"\u001b[0m\u001b[0;34m,\u001b[0m\u001b[0mmodel_name\u001b[0m\u001b[0;34m,\u001b[0m\u001b[0mfeature_dim\u001b[0m\u001b[0;34m=\u001b[0m\u001b[0mfeature_dim\u001b[0m\u001b[0;34m,\u001b[0m\u001b[0mpartition\u001b[0m\u001b[0;34m=\u001b[0m\u001b[0;36m4\u001b[0m\u001b[0;34m)\u001b[0m\u001b[0;34m\u001b[0m\u001b[0;34m\u001b[0m\u001b[0m\n\u001b[0m\u001b[1;32m     17\u001b[0m \u001b[0mload_data_to_vearch\u001b[0m\u001b[0;34m(\u001b[0m\u001b[0mmodel_name\u001b[0m\u001b[0;34m=\u001b[0m\u001b[0mmodel_name\u001b[0m\u001b[0;34m)\u001b[0m\u001b[0;34m\u001b[0m\u001b[0;34m\u001b[0m\u001b[0m\n",
      "\u001b[0;32m/data/data-science/rsong/mm811imgaeid/init_vearch_local.py\u001b[0m in \u001b[0;36mcreate_space\u001b[0;34m(db_name, space_name, feature_dim, partition)\u001b[0m\n\u001b[1;32m     51\u001b[0m         },\n\u001b[1;32m     52\u001b[0m     }\n\u001b[0;32m---> 53\u001b[0;31m     \u001b[0mresponse\u001b[0m \u001b[0;34m=\u001b[0m \u001b[0mrequests\u001b[0m\u001b[0;34m.\u001b[0m\u001b[0mput\u001b[0m\u001b[0;34m(\u001b[0m\u001b[0murl\u001b[0m\u001b[0;34m,\u001b[0m \u001b[0mjson\u001b[0m\u001b[0;34m=\u001b[0m\u001b[0mdata\u001b[0m\u001b[0;34m,\u001b[0m \u001b[0mheaders\u001b[0m\u001b[0;34m=\u001b[0m\u001b[0mheader\u001b[0m\u001b[0;34m)\u001b[0m\u001b[0;34m\u001b[0m\u001b[0;34m\u001b[0m\u001b[0m\n\u001b[0m\u001b[1;32m     54\u001b[0m     \u001b[0mprint\u001b[0m\u001b[0;34m(\u001b[0m\u001b[0mresponse\u001b[0m\u001b[0;34m.\u001b[0m\u001b[0mcontent\u001b[0m\u001b[0;34m)\u001b[0m\u001b[0;34m\u001b[0m\u001b[0;34m\u001b[0m\u001b[0m\n\u001b[1;32m     55\u001b[0m \u001b[0;34m\u001b[0m\u001b[0m\n",
      "\u001b[0;32m/data/data-science/rsong/mm811imgaeid/.venv/lib/python3.8/site-packages/requests/api.py\u001b[0m in \u001b[0;36mput\u001b[0;34m(url, data, **kwargs)\u001b[0m\n\u001b[1;32m    130\u001b[0m     \"\"\"\n\u001b[1;32m    131\u001b[0m \u001b[0;34m\u001b[0m\u001b[0m\n\u001b[0;32m--> 132\u001b[0;31m     \u001b[0;32mreturn\u001b[0m \u001b[0mrequest\u001b[0m\u001b[0;34m(\u001b[0m\u001b[0;34m'put'\u001b[0m\u001b[0;34m,\u001b[0m \u001b[0murl\u001b[0m\u001b[0;34m,\u001b[0m \u001b[0mdata\u001b[0m\u001b[0;34m=\u001b[0m\u001b[0mdata\u001b[0m\u001b[0;34m,\u001b[0m \u001b[0;34m**\u001b[0m\u001b[0mkwargs\u001b[0m\u001b[0;34m)\u001b[0m\u001b[0;34m\u001b[0m\u001b[0;34m\u001b[0m\u001b[0m\n\u001b[0m\u001b[1;32m    133\u001b[0m \u001b[0;34m\u001b[0m\u001b[0m\n\u001b[1;32m    134\u001b[0m \u001b[0;34m\u001b[0m\u001b[0m\n",
      "\u001b[0;32m/data/data-science/rsong/mm811imgaeid/.venv/lib/python3.8/site-packages/requests/api.py\u001b[0m in \u001b[0;36mrequest\u001b[0;34m(method, url, **kwargs)\u001b[0m\n\u001b[1;32m     59\u001b[0m     \u001b[0;31m# cases, and look like a memory leak in others.\u001b[0m\u001b[0;34m\u001b[0m\u001b[0;34m\u001b[0m\u001b[0;34m\u001b[0m\u001b[0m\n\u001b[1;32m     60\u001b[0m     \u001b[0;32mwith\u001b[0m \u001b[0msessions\u001b[0m\u001b[0;34m.\u001b[0m\u001b[0mSession\u001b[0m\u001b[0;34m(\u001b[0m\u001b[0;34m)\u001b[0m \u001b[0;32mas\u001b[0m \u001b[0msession\u001b[0m\u001b[0;34m:\u001b[0m\u001b[0;34m\u001b[0m\u001b[0;34m\u001b[0m\u001b[0m\n\u001b[0;32m---> 61\u001b[0;31m         \u001b[0;32mreturn\u001b[0m \u001b[0msession\u001b[0m\u001b[0;34m.\u001b[0m\u001b[0mrequest\u001b[0m\u001b[0;34m(\u001b[0m\u001b[0mmethod\u001b[0m\u001b[0;34m=\u001b[0m\u001b[0mmethod\u001b[0m\u001b[0;34m,\u001b[0m \u001b[0murl\u001b[0m\u001b[0;34m=\u001b[0m\u001b[0murl\u001b[0m\u001b[0;34m,\u001b[0m \u001b[0;34m**\u001b[0m\u001b[0mkwargs\u001b[0m\u001b[0;34m)\u001b[0m\u001b[0;34m\u001b[0m\u001b[0;34m\u001b[0m\u001b[0m\n\u001b[0m\u001b[1;32m     62\u001b[0m \u001b[0;34m\u001b[0m\u001b[0m\n\u001b[1;32m     63\u001b[0m \u001b[0;34m\u001b[0m\u001b[0m\n",
      "\u001b[0;32m/data/data-science/rsong/mm811imgaeid/.venv/lib/python3.8/site-packages/requests/sessions.py\u001b[0m in \u001b[0;36mrequest\u001b[0;34m(self, method, url, params, data, headers, cookies, files, auth, timeout, allow_redirects, proxies, hooks, stream, verify, cert, json)\u001b[0m\n\u001b[1;32m    540\u001b[0m         }\n\u001b[1;32m    541\u001b[0m         \u001b[0msend_kwargs\u001b[0m\u001b[0;34m.\u001b[0m\u001b[0mupdate\u001b[0m\u001b[0;34m(\u001b[0m\u001b[0msettings\u001b[0m\u001b[0;34m)\u001b[0m\u001b[0;34m\u001b[0m\u001b[0;34m\u001b[0m\u001b[0m\n\u001b[0;32m--> 542\u001b[0;31m         \u001b[0mresp\u001b[0m \u001b[0;34m=\u001b[0m \u001b[0mself\u001b[0m\u001b[0;34m.\u001b[0m\u001b[0msend\u001b[0m\u001b[0;34m(\u001b[0m\u001b[0mprep\u001b[0m\u001b[0;34m,\u001b[0m \u001b[0;34m**\u001b[0m\u001b[0msend_kwargs\u001b[0m\u001b[0;34m)\u001b[0m\u001b[0;34m\u001b[0m\u001b[0;34m\u001b[0m\u001b[0m\n\u001b[0m\u001b[1;32m    543\u001b[0m \u001b[0;34m\u001b[0m\u001b[0m\n\u001b[1;32m    544\u001b[0m         \u001b[0;32mreturn\u001b[0m \u001b[0mresp\u001b[0m\u001b[0;34m\u001b[0m\u001b[0;34m\u001b[0m\u001b[0m\n",
      "\u001b[0;32m/data/data-science/rsong/mm811imgaeid/.venv/lib/python3.8/site-packages/requests/sessions.py\u001b[0m in \u001b[0;36msend\u001b[0;34m(self, request, **kwargs)\u001b[0m\n\u001b[1;32m    653\u001b[0m \u001b[0;34m\u001b[0m\u001b[0m\n\u001b[1;32m    654\u001b[0m         \u001b[0;31m# Send the request\u001b[0m\u001b[0;34m\u001b[0m\u001b[0;34m\u001b[0m\u001b[0;34m\u001b[0m\u001b[0m\n\u001b[0;32m--> 655\u001b[0;31m         \u001b[0mr\u001b[0m \u001b[0;34m=\u001b[0m \u001b[0madapter\u001b[0m\u001b[0;34m.\u001b[0m\u001b[0msend\u001b[0m\u001b[0;34m(\u001b[0m\u001b[0mrequest\u001b[0m\u001b[0;34m,\u001b[0m \u001b[0;34m**\u001b[0m\u001b[0mkwargs\u001b[0m\u001b[0;34m)\u001b[0m\u001b[0;34m\u001b[0m\u001b[0;34m\u001b[0m\u001b[0m\n\u001b[0m\u001b[1;32m    656\u001b[0m \u001b[0;34m\u001b[0m\u001b[0m\n\u001b[1;32m    657\u001b[0m         \u001b[0;31m# Total elapsed time of the request (approximately)\u001b[0m\u001b[0;34m\u001b[0m\u001b[0;34m\u001b[0m\u001b[0;34m\u001b[0m\u001b[0m\n",
      "\u001b[0;32m/data/data-science/rsong/mm811imgaeid/.venv/lib/python3.8/site-packages/requests/adapters.py\u001b[0m in \u001b[0;36msend\u001b[0;34m(self, request, stream, timeout, verify, cert, proxies)\u001b[0m\n\u001b[1;32m    437\u001b[0m         \u001b[0;32mtry\u001b[0m\u001b[0;34m:\u001b[0m\u001b[0;34m\u001b[0m\u001b[0;34m\u001b[0m\u001b[0m\n\u001b[1;32m    438\u001b[0m             \u001b[0;32mif\u001b[0m \u001b[0;32mnot\u001b[0m \u001b[0mchunked\u001b[0m\u001b[0;34m:\u001b[0m\u001b[0;34m\u001b[0m\u001b[0;34m\u001b[0m\u001b[0m\n\u001b[0;32m--> 439\u001b[0;31m                 resp = conn.urlopen(\n\u001b[0m\u001b[1;32m    440\u001b[0m                     \u001b[0mmethod\u001b[0m\u001b[0;34m=\u001b[0m\u001b[0mrequest\u001b[0m\u001b[0;34m.\u001b[0m\u001b[0mmethod\u001b[0m\u001b[0;34m,\u001b[0m\u001b[0;34m\u001b[0m\u001b[0;34m\u001b[0m\u001b[0m\n\u001b[1;32m    441\u001b[0m                     \u001b[0murl\u001b[0m\u001b[0;34m=\u001b[0m\u001b[0murl\u001b[0m\u001b[0;34m,\u001b[0m\u001b[0;34m\u001b[0m\u001b[0;34m\u001b[0m\u001b[0m\n",
      "\u001b[0;32m/data/data-science/rsong/mm811imgaeid/.venv/lib/python3.8/site-packages/urllib3/connectionpool.py\u001b[0m in \u001b[0;36murlopen\u001b[0;34m(self, method, url, body, headers, retries, redirect, assert_same_host, timeout, pool_timeout, release_conn, chunked, body_pos, **response_kw)\u001b[0m\n\u001b[1;32m    697\u001b[0m \u001b[0;34m\u001b[0m\u001b[0m\n\u001b[1;32m    698\u001b[0m             \u001b[0;31m# Make the request on the httplib connection object.\u001b[0m\u001b[0;34m\u001b[0m\u001b[0;34m\u001b[0m\u001b[0;34m\u001b[0m\u001b[0m\n\u001b[0;32m--> 699\u001b[0;31m             httplib_response = self._make_request(\n\u001b[0m\u001b[1;32m    700\u001b[0m                 \u001b[0mconn\u001b[0m\u001b[0;34m,\u001b[0m\u001b[0;34m\u001b[0m\u001b[0;34m\u001b[0m\u001b[0m\n\u001b[1;32m    701\u001b[0m                 \u001b[0mmethod\u001b[0m\u001b[0;34m,\u001b[0m\u001b[0;34m\u001b[0m\u001b[0;34m\u001b[0m\u001b[0m\n",
      "\u001b[0;32m/data/data-science/rsong/mm811imgaeid/.venv/lib/python3.8/site-packages/urllib3/connectionpool.py\u001b[0m in \u001b[0;36m_make_request\u001b[0;34m(self, conn, method, url, timeout, chunked, **httplib_request_kw)\u001b[0m\n\u001b[1;32m    443\u001b[0m                     \u001b[0;31m# Python 3 (including for exceptions like SystemExit).\u001b[0m\u001b[0;34m\u001b[0m\u001b[0;34m\u001b[0m\u001b[0;34m\u001b[0m\u001b[0m\n\u001b[1;32m    444\u001b[0m                     \u001b[0;31m# Otherwise it looks like a bug in the code.\u001b[0m\u001b[0;34m\u001b[0m\u001b[0;34m\u001b[0m\u001b[0;34m\u001b[0m\u001b[0m\n\u001b[0;32m--> 445\u001b[0;31m                     \u001b[0msix\u001b[0m\u001b[0;34m.\u001b[0m\u001b[0mraise_from\u001b[0m\u001b[0;34m(\u001b[0m\u001b[0me\u001b[0m\u001b[0;34m,\u001b[0m \u001b[0;32mNone\u001b[0m\u001b[0;34m)\u001b[0m\u001b[0;34m\u001b[0m\u001b[0;34m\u001b[0m\u001b[0m\n\u001b[0m\u001b[1;32m    446\u001b[0m         \u001b[0;32mexcept\u001b[0m \u001b[0;34m(\u001b[0m\u001b[0mSocketTimeout\u001b[0m\u001b[0;34m,\u001b[0m \u001b[0mBaseSSLError\u001b[0m\u001b[0;34m,\u001b[0m \u001b[0mSocketError\u001b[0m\u001b[0;34m)\u001b[0m \u001b[0;32mas\u001b[0m \u001b[0me\u001b[0m\u001b[0;34m:\u001b[0m\u001b[0;34m\u001b[0m\u001b[0;34m\u001b[0m\u001b[0m\n\u001b[1;32m    447\u001b[0m             \u001b[0mself\u001b[0m\u001b[0;34m.\u001b[0m\u001b[0m_raise_timeout\u001b[0m\u001b[0;34m(\u001b[0m\u001b[0merr\u001b[0m\u001b[0;34m=\u001b[0m\u001b[0me\u001b[0m\u001b[0;34m,\u001b[0m \u001b[0murl\u001b[0m\u001b[0;34m=\u001b[0m\u001b[0murl\u001b[0m\u001b[0;34m,\u001b[0m \u001b[0mtimeout_value\u001b[0m\u001b[0;34m=\u001b[0m\u001b[0mread_timeout\u001b[0m\u001b[0;34m)\u001b[0m\u001b[0;34m\u001b[0m\u001b[0;34m\u001b[0m\u001b[0m\n",
      "\u001b[0;32m/data/data-science/rsong/mm811imgaeid/.venv/lib/python3.8/site-packages/urllib3/packages/six.py\u001b[0m in \u001b[0;36mraise_from\u001b[0;34m(value, from_value)\u001b[0m\n",
      "\u001b[0;32m/data/data-science/rsong/mm811imgaeid/.venv/lib/python3.8/site-packages/urllib3/connectionpool.py\u001b[0m in \u001b[0;36m_make_request\u001b[0;34m(self, conn, method, url, timeout, chunked, **httplib_request_kw)\u001b[0m\n\u001b[1;32m    438\u001b[0m                 \u001b[0;31m# Python 3\u001b[0m\u001b[0;34m\u001b[0m\u001b[0;34m\u001b[0m\u001b[0;34m\u001b[0m\u001b[0m\n\u001b[1;32m    439\u001b[0m                 \u001b[0;32mtry\u001b[0m\u001b[0;34m:\u001b[0m\u001b[0;34m\u001b[0m\u001b[0;34m\u001b[0m\u001b[0m\n\u001b[0;32m--> 440\u001b[0;31m                     \u001b[0mhttplib_response\u001b[0m \u001b[0;34m=\u001b[0m \u001b[0mconn\u001b[0m\u001b[0;34m.\u001b[0m\u001b[0mgetresponse\u001b[0m\u001b[0;34m(\u001b[0m\u001b[0;34m)\u001b[0m\u001b[0;34m\u001b[0m\u001b[0;34m\u001b[0m\u001b[0m\n\u001b[0m\u001b[1;32m    441\u001b[0m                 \u001b[0;32mexcept\u001b[0m \u001b[0mBaseException\u001b[0m \u001b[0;32mas\u001b[0m \u001b[0me\u001b[0m\u001b[0;34m:\u001b[0m\u001b[0;34m\u001b[0m\u001b[0;34m\u001b[0m\u001b[0m\n\u001b[1;32m    442\u001b[0m                     \u001b[0;31m# Remove the TypeError from the exception chain in\u001b[0m\u001b[0;34m\u001b[0m\u001b[0;34m\u001b[0m\u001b[0;34m\u001b[0m\u001b[0m\n",
      "\u001b[0;32m/usr/lib/python3.8/http/client.py\u001b[0m in \u001b[0;36mgetresponse\u001b[0;34m(self)\u001b[0m\n\u001b[1;32m   1342\u001b[0m         \u001b[0;32mtry\u001b[0m\u001b[0;34m:\u001b[0m\u001b[0;34m\u001b[0m\u001b[0;34m\u001b[0m\u001b[0m\n\u001b[1;32m   1343\u001b[0m             \u001b[0;32mtry\u001b[0m\u001b[0;34m:\u001b[0m\u001b[0;34m\u001b[0m\u001b[0;34m\u001b[0m\u001b[0m\n\u001b[0;32m-> 1344\u001b[0;31m                 \u001b[0mresponse\u001b[0m\u001b[0;34m.\u001b[0m\u001b[0mbegin\u001b[0m\u001b[0;34m(\u001b[0m\u001b[0;34m)\u001b[0m\u001b[0;34m\u001b[0m\u001b[0;34m\u001b[0m\u001b[0m\n\u001b[0m\u001b[1;32m   1345\u001b[0m             \u001b[0;32mexcept\u001b[0m \u001b[0mConnectionError\u001b[0m\u001b[0;34m:\u001b[0m\u001b[0;34m\u001b[0m\u001b[0;34m\u001b[0m\u001b[0m\n\u001b[1;32m   1346\u001b[0m                 \u001b[0mself\u001b[0m\u001b[0;34m.\u001b[0m\u001b[0mclose\u001b[0m\u001b[0;34m(\u001b[0m\u001b[0;34m)\u001b[0m\u001b[0;34m\u001b[0m\u001b[0;34m\u001b[0m\u001b[0m\n",
      "\u001b[0;32m/usr/lib/python3.8/http/client.py\u001b[0m in \u001b[0;36mbegin\u001b[0;34m(self)\u001b[0m\n\u001b[1;32m    305\u001b[0m         \u001b[0;31m# read until we get a non-100 response\u001b[0m\u001b[0;34m\u001b[0m\u001b[0;34m\u001b[0m\u001b[0;34m\u001b[0m\u001b[0m\n\u001b[1;32m    306\u001b[0m         \u001b[0;32mwhile\u001b[0m \u001b[0;32mTrue\u001b[0m\u001b[0;34m:\u001b[0m\u001b[0;34m\u001b[0m\u001b[0;34m\u001b[0m\u001b[0m\n\u001b[0;32m--> 307\u001b[0;31m             \u001b[0mversion\u001b[0m\u001b[0;34m,\u001b[0m \u001b[0mstatus\u001b[0m\u001b[0;34m,\u001b[0m \u001b[0mreason\u001b[0m \u001b[0;34m=\u001b[0m \u001b[0mself\u001b[0m\u001b[0;34m.\u001b[0m\u001b[0m_read_status\u001b[0m\u001b[0;34m(\u001b[0m\u001b[0;34m)\u001b[0m\u001b[0;34m\u001b[0m\u001b[0;34m\u001b[0m\u001b[0m\n\u001b[0m\u001b[1;32m    308\u001b[0m             \u001b[0;32mif\u001b[0m \u001b[0mstatus\u001b[0m \u001b[0;34m!=\u001b[0m \u001b[0mCONTINUE\u001b[0m\u001b[0;34m:\u001b[0m\u001b[0;34m\u001b[0m\u001b[0;34m\u001b[0m\u001b[0m\n\u001b[1;32m    309\u001b[0m                 \u001b[0;32mbreak\u001b[0m\u001b[0;34m\u001b[0m\u001b[0;34m\u001b[0m\u001b[0m\n",
      "\u001b[0;32m/usr/lib/python3.8/http/client.py\u001b[0m in \u001b[0;36m_read_status\u001b[0;34m(self)\u001b[0m\n\u001b[1;32m    266\u001b[0m \u001b[0;34m\u001b[0m\u001b[0m\n\u001b[1;32m    267\u001b[0m     \u001b[0;32mdef\u001b[0m \u001b[0m_read_status\u001b[0m\u001b[0;34m(\u001b[0m\u001b[0mself\u001b[0m\u001b[0;34m)\u001b[0m\u001b[0;34m:\u001b[0m\u001b[0;34m\u001b[0m\u001b[0;34m\u001b[0m\u001b[0m\n\u001b[0;32m--> 268\u001b[0;31m         \u001b[0mline\u001b[0m \u001b[0;34m=\u001b[0m \u001b[0mstr\u001b[0m\u001b[0;34m(\u001b[0m\u001b[0mself\u001b[0m\u001b[0;34m.\u001b[0m\u001b[0mfp\u001b[0m\u001b[0;34m.\u001b[0m\u001b[0mreadline\u001b[0m\u001b[0;34m(\u001b[0m\u001b[0m_MAXLINE\u001b[0m \u001b[0;34m+\u001b[0m \u001b[0;36m1\u001b[0m\u001b[0;34m)\u001b[0m\u001b[0;34m,\u001b[0m \u001b[0;34m\"iso-8859-1\"\u001b[0m\u001b[0;34m)\u001b[0m\u001b[0;34m\u001b[0m\u001b[0;34m\u001b[0m\u001b[0m\n\u001b[0m\u001b[1;32m    269\u001b[0m         \u001b[0;32mif\u001b[0m \u001b[0mlen\u001b[0m\u001b[0;34m(\u001b[0m\u001b[0mline\u001b[0m\u001b[0;34m)\u001b[0m \u001b[0;34m>\u001b[0m \u001b[0m_MAXLINE\u001b[0m\u001b[0;34m:\u001b[0m\u001b[0;34m\u001b[0m\u001b[0;34m\u001b[0m\u001b[0m\n\u001b[1;32m    270\u001b[0m             \u001b[0;32mraise\u001b[0m \u001b[0mLineTooLong\u001b[0m\u001b[0;34m(\u001b[0m\u001b[0;34m\"status line\"\u001b[0m\u001b[0;34m)\u001b[0m\u001b[0;34m\u001b[0m\u001b[0;34m\u001b[0m\u001b[0m\n",
      "\u001b[0;32m/usr/lib/python3.8/socket.py\u001b[0m in \u001b[0;36mreadinto\u001b[0;34m(self, b)\u001b[0m\n\u001b[1;32m    667\u001b[0m         \u001b[0;32mwhile\u001b[0m \u001b[0;32mTrue\u001b[0m\u001b[0;34m:\u001b[0m\u001b[0;34m\u001b[0m\u001b[0;34m\u001b[0m\u001b[0m\n\u001b[1;32m    668\u001b[0m             \u001b[0;32mtry\u001b[0m\u001b[0;34m:\u001b[0m\u001b[0;34m\u001b[0m\u001b[0;34m\u001b[0m\u001b[0m\n\u001b[0;32m--> 669\u001b[0;31m                 \u001b[0;32mreturn\u001b[0m \u001b[0mself\u001b[0m\u001b[0;34m.\u001b[0m\u001b[0m_sock\u001b[0m\u001b[0;34m.\u001b[0m\u001b[0mrecv_into\u001b[0m\u001b[0;34m(\u001b[0m\u001b[0mb\u001b[0m\u001b[0;34m)\u001b[0m\u001b[0;34m\u001b[0m\u001b[0;34m\u001b[0m\u001b[0m\n\u001b[0m\u001b[1;32m    670\u001b[0m             \u001b[0;32mexcept\u001b[0m \u001b[0mtimeout\u001b[0m\u001b[0;34m:\u001b[0m\u001b[0;34m\u001b[0m\u001b[0;34m\u001b[0m\u001b[0m\n\u001b[1;32m    671\u001b[0m                 \u001b[0mself\u001b[0m\u001b[0;34m.\u001b[0m\u001b[0m_timeout_occurred\u001b[0m \u001b[0;34m=\u001b[0m \u001b[0;32mTrue\u001b[0m\u001b[0;34m\u001b[0m\u001b[0;34m\u001b[0m\u001b[0m\n",
      "\u001b[0;31mKeyboardInterrupt\u001b[0m: "
     ]
    }
   ],
   "source": [
    "from util.load_bottles import load_data_to_vearch\n",
    "from init_vearch_local import create_space,delete_space,create_db\n",
    "from util.vearchutil import VearchUtil\n",
    "\n",
    "db_name=\"bottle\"\n",
    "create_db(db_name)\n",
    "\n",
    "model_name = \"alexnet\"\n",
    "image_name = \"./data/zerobox/images/blackbottles/00001.png\"\n",
    "util = VearchUtil(model_name=model_name)\n",
    "item = util.extract_feature(image=image_name)\n",
    "feature_dim = len(item)\n",
    "print(feature_dim)\n",
    "\n",
    "delete_space(\"bottle\",model_name)\n",
    "create_space(\"bottle\",model_name,feature_dim=feature_dim,partition=4)\n",
    "load_data_to_vearch(model_name=model_name)\n"
   ]
  },
  {
   "cell_type": "code",
   "execution_count": 13,
   "metadata": {},
   "outputs": [
    {
     "name": "stderr",
     "output_type": "stream",
     "text": [
      "INFO 2021-11-30 09:16:25,114 testutil 766852 140166078207808 TestUtil test alexnet\n"
     ]
    },
    {
     "name": "stdout",
     "output_type": "stream",
     "text": [
      "              blackbottles  blackcup  blacktumbler  blue  notfound  silver  \\\n",
      "blackbottles          21.0       0.0           0.0   0.0       0.0     0.0   \n",
      "blackcup               0.0       2.0           0.0   0.0       0.0     0.0   \n",
      "blacktumbler           0.0       0.0           5.0   0.0       0.0     0.0   \n",
      "blue                   0.0       0.0           0.0   5.0       0.0     0.0   \n",
      "notfound               0.0       0.0           0.0   0.0       0.0     0.0   \n",
      "silver                 0.0       0.0           0.0   0.0       0.0     7.0   \n",
      "white                  0.0       0.0           0.0   0.0       0.0     0.0   \n",
      "whitecup               0.0       0.0           0.0   0.0       0.0     0.0   \n",
      "\n",
      "              white  whitecup  \n",
      "blackbottles    0.0       0.0  \n",
      "blackcup        0.0       0.0  \n",
      "blacktumbler    0.0       0.0  \n",
      "blue            0.0       0.0  \n",
      "notfound        0.0       0.0  \n",
      "silver          0.0       0.0  \n",
      "white           7.0       2.0  \n",
      "whitecup        0.0       5.0  \n",
      "'Final accuracy: 0.9629629629629629'\n",
      "Wrong results:\n",
      "['./data/zerobox/images/white/000042.png',\n",
      " './data/zerobox/images/white/000044.png']\n"
     ]
    }
   ],
   "source": [
    "from util.testutil import TestUtil\n",
    "from pprint import pprint\n",
    "\n",
    "# batch test results\n",
    "testutil = TestUtil(model_name=\"alexnet\")\n",
    "(accuracy, cmatrix,wrong_results) = testutil.test()\n",
    "\n",
    "pprint(cmatrix)\n",
    "pprint(f\"Final accuracy: {accuracy}\")\n",
    "print(\"Wrong results:\")\n",
    "pprint(wrong_results)"
   ]
  },
  {
   "cell_type": "code",
   "execution_count": 5,
   "metadata": {},
   "outputs": [
    {
     "name": "stdout",
     "output_type": "stream",
     "text": [
      "{\"code\":200,\"msg\":\"success\"}\n"
     ]
    },
    {
     "name": "stderr",
     "output_type": "stream",
     "text": [
      "INFO 2021-11-30 08:52:33,377 load_bottles 758075 139635490367296 load_data_to_vearch(./data/zerobox,vgg16)\n"
     ]
    },
    {
     "name": "stdout",
     "output_type": "stream",
     "text": [
      "b'{\"code\":200,\"msg\":\"success\",\"data\":{\"id\":5,\"name\":\"vgg16\",\"version\":2,\"db_id\":1,\"enabled\":true,\"partitions\":[{\"id\":17,\"space_id\":5,\"db_id\":1,\"partition_slot\":0,\"replicas\":[1]},{\"id\":18,\"space_id\":5,\"db_id\":1,\"partition_slot\":1073741823,\"replicas\":[1]},{\"id\":19,\"space_id\":5,\"db_id\":1,\"partition_slot\":2147483646,\"replicas\":[1]},{\"id\":20,\"space_id\":5,\"db_id\":1,\"partition_slot\":3221225469,\"replicas\":[1]}],\"partition_num\":4,\"replica_num\":1,\"properties\":{\"image_name\": {\"type\": \"keyword\", \"index\": true}, \"image\": {\"type\": \"vector\", \"dimension\": 512, \"format\": \"normalization\"}, \"model_name\": {\"type\": \"keyword\", \"index\": true}, \"keyword\": {\"type\": \"keyword\", \"index\": true}, \"tags\": {\"type\": \"string\", \"array\": true, \"index\": true}, \"uuid\": {\"type\": \"keyword\", \"index\": true}, \"sid\": {\"type\": \"keyword\", \"index\": true}},\"engine\":{\"name\":\"gamma\",\"index_size\":70000,\"metric_type\":\"InnerProduct\",\"retrieval_type\":\"IVFPQ\",\"retrieval_param\":{\"metric_type\": \"InnerProduct\", \"ncentroids\": 256, \"nsubvector\": 32},\"id_type\":\"String\"},\"space_properties\":{\"image\":{\"field_type\":5,\"type\":\"vector\",\"format\":\"normalization\",\"dimension\":512,\"option\":1},\"model_name\":{\"field_type\":4,\"type\":\"keyword\",\"index\":true,\"option\":1},\"keyword\":{\"field_type\":4,\"type\":\"keyword\",\"index\":true,\"option\":1},\"tags\":{\"field_type\":4,\"type\":\"string\",\"index\":true,\"array\":true,\"option\":1},\"uuid\":{\"field_type\":4,\"type\":\"keyword\",\"index\":true,\"option\":1},\"sid\":{\"field_type\":4,\"type\":\"keyword\",\"index\":true,\"option\":1},\"image_name\":{\"field_type\":4,\"type\":\"keyword\",\"index\":true,\"option\":1}}}}'\n",
      "b'{\"code\":200,\"msg\":\"success\",\"data\":{\"id\":5,\"name\":\"vgg16\",\"version\":2,\"db_id\":1,\"enabled\":true,\"partitions\":[{\"id\":17,\"space_id\":5,\"db_id\":1,\"partition_slot\":0,\"replicas\":[1]},{\"id\":18,\"space_id\":5,\"db_id\":1,\"partition_slot\":1073741823,\"replicas\":[1]},{\"id\":19,\"space_id\":5,\"db_id\":1,\"partition_slot\":2147483646,\"replicas\":[1]},{\"id\":20,\"space_id\":5,\"db_id\":1,\"partition_slot\":3221225469,\"replicas\":[1]}],\"partition_num\":4,\"replica_num\":1,\"properties\":{\"image_name\":{\"type\":\"keyword\",\"index\":true},\"image\":{\"type\":\"vector\",\"dimension\":512,\"format\":\"normalization\"},\"model_name\":{\"type\":\"keyword\",\"index\":true},\"keyword\":{\"type\":\"keyword\",\"index\":true},\"tags\":{\"type\":\"string\",\"array\":true,\"index\":true},\"uuid\":{\"type\":\"keyword\",\"index\":true},\"sid\":{\"type\":\"keyword\",\"index\":true}},\"engine\":{\"name\":\"gamma\",\"index_size\":70000,\"metric_type\":\"InnerProduct\",\"retrieval_type\":\"IVFPQ\",\"retrieval_param\":{\"metric_type\":\"InnerProduct\",\"ncentroids\":256,\"nsubvector\":32},\"id_type\":\"String\"},\"space_properties\":{\"image_name\":{\"field_type\":4,\"type\":\"keyword\",\"index\":true,\"option\":1},\"keyword\":{\"field_type\":4,\"type\":\"keyword\",\"index\":true,\"option\":1},\"model_name\":{\"field_type\":4,\"type\":\"keyword\",\"index\":true,\"option\":1},\"sid\":{\"field_type\":4,\"type\":\"keyword\",\"index\":true,\"option\":1},\"tags\":{\"field_type\":4,\"type\":\"string\",\"index\":true,\"array\":true,\"option\":1},\"uuid\":{\"field_type\":4,\"type\":\"keyword\",\"index\":true,\"option\":1},\"image\":{\"field_type\":5,\"type\":\"vector\",\"format\":\"normalization\",\"dimension\":512,\"option\":1}}}}'\n"
     ]
    }
   ],
   "source": [
    "from util.load_bottles import load_data_to_vearch\n",
    "from init_vearch_local import create_space,delete_space,create_db\n",
    "from util.vearchutil import VearchUtil\n",
    "\n",
    "db_name=\"bottle\"\n",
    "create_db(db_name)\n",
    "\n",
    "model_name = \"vgg16\"\n",
    "image_name = \"./data/zerobox/images/blackbottles/00001.png\"\n",
    "util = VearchUtil(model_name=model_name)\n",
    "item = util.extract_feature(image=image_name)\n",
    "feature_dim = len(item)\n",
    "print(feature_dim)\n",
    "\n",
    "delete_space(\"bottle\",model_name)\n",
    "create_space(\"bottle\",model_name,feature_dim=feature_dim,partition=4)\n",
    "load_data_to_vearch(model_name=model_name)"
   ]
  },
  {
   "cell_type": "code",
   "execution_count": 11,
   "metadata": {},
   "outputs": [
    {
     "name": "stderr",
     "output_type": "stream",
     "text": [
      "INFO 2021-11-30 09:15:01,988 testutil 766852 140166078207808 TestUtil test vgg16\n"
     ]
    },
    {
     "name": "stdout",
     "output_type": "stream",
     "text": [
      "              blackbottles  blackcup  blacktumbler  blue  notfound  silver  \\\n",
      "blackbottles          21.0       0.0           0.0   0.0       0.0     0.0   \n",
      "blackcup               0.0       2.0           0.0   0.0       0.0     0.0   \n",
      "blacktumbler           0.0       0.0           5.0   0.0       0.0     0.0   \n",
      "blue                   0.0       0.0           0.0   5.0       0.0     0.0   \n",
      "notfound               0.0       0.0           0.0   0.0       0.0     0.0   \n",
      "silver                 0.0       0.0           0.0   0.0       0.0     7.0   \n",
      "white                  0.0       0.0           0.0   1.0       0.0     0.0   \n",
      "whitecup               0.0       0.0           0.0   0.0       0.0     0.0   \n",
      "\n",
      "              white  whitecup  \n",
      "blackbottles    0.0       0.0  \n",
      "blackcup        0.0       0.0  \n",
      "blacktumbler    0.0       0.0  \n",
      "blue            0.0       0.0  \n",
      "notfound        0.0       0.0  \n",
      "silver          0.0       0.0  \n",
      "white           8.0       0.0  \n",
      "whitecup        0.0       5.0  \n",
      "'Final accuracy: 0.9814814814814815'\n",
      "Wrong results:\n",
      "['./data/zerobox/images/white/000044.png']\n"
     ]
    }
   ],
   "source": [
    "# batch test results\n",
    "from util.testutil import TestUtil\n",
    "from pprint import pprint\n",
    "\n",
    "testutil = TestUtil(model_name=\"vgg16\")\n",
    "(accuracy, cmatrix,wrong_results) = testutil.test()\n",
    "\n",
    "pprint(cmatrix)\n",
    "pprint(f\"Final accuracy: {accuracy}\")\n",
    "print(\"Wrong results:\")\n",
    "pprint(wrong_results)"
   ]
  },
  {
   "cell_type": "code",
   "execution_count": 16,
   "metadata": {},
   "outputs": [
    {
     "name": "stdout",
     "output_type": "stream",
     "text": [
      "{\"code\":200,\"msg\":\"success\",\"data\":{\"id\":1,\"name\":\"bottle\"}}\n",
      "2048\n",
      "{\"code\":565,\"msg\":\"space_notexists\"}\n"
     ]
    },
    {
     "name": "stderr",
     "output_type": "stream",
     "text": [
      "INFO 2021-11-30 09:25:12,258 load_bottles 766852 140166078207808 load_data_to_vearch(./data/zerobox,resnet)\n"
     ]
    },
    {
     "name": "stdout",
     "output_type": "stream",
     "text": [
      "b\"('Connection aborted.', RemoteDisconnected('Remote end closed connection without response',))\"\n",
      "b\"HTTPConnectionPool(host='vearch', port=8817): Max retries exceeded with url: /space/bottle/resnet (Caused by NewConnectionError('<urllib3.connection.HTTPConnection object at 0x7faa2cf51748>: Failed to establish a new connection: [Errno 111] Connection refused',))\"\n"
     ]
    },
    {
     "name": "stderr",
     "output_type": "stream",
     "text": [
      "ERROR 2021-11-30 09:25:12,584 vearchutil 766852 140166078207808 HTTPConnectionPool(host='vearch', port=9001): Max retries exceeded with url: /bottle/resnet/51d41fce-20b7-4c38-aff5-c25cc77cf304 (Caused by NewConnectionError('<urllib3.connection.HTTPConnection object at 0x7faa2cf5c208>: Failed to establish a new connection: [Errno -2] Name or service not known',))\n"
     ]
    },
    {
     "ename": "VearchIndexError",
     "evalue": "HTTPConnectionPool(host='vearch', port=9001): Max retries exceeded with url: /bottle/resnet/51d41fce-20b7-4c38-aff5-c25cc77cf304 (Caused by NewConnectionError('<urllib3.connection.HTTPConnection object at 0x7faa2cf5c208>: Failed to establish a new connection: [Errno -2] Name or service not known',))",
     "output_type": "error",
     "traceback": [
      "\u001b[0;31m---------------------------------------------------------------------------\u001b[0m",
      "\u001b[0;31mVearchIndexError\u001b[0m                          Traceback (most recent call last)",
      "\u001b[0;32m/tmp/ipykernel_766852/1634112733.py\u001b[0m in \u001b[0;36m<module>\u001b[0;34m\u001b[0m\n\u001b[1;32m     15\u001b[0m \u001b[0mdelete_space\u001b[0m\u001b[0;34m(\u001b[0m\u001b[0;34m\"bottle\"\u001b[0m\u001b[0;34m,\u001b[0m\u001b[0mmodel_name\u001b[0m\u001b[0;34m)\u001b[0m\u001b[0;34m\u001b[0m\u001b[0;34m\u001b[0m\u001b[0m\n\u001b[1;32m     16\u001b[0m \u001b[0mcreate_space\u001b[0m\u001b[0;34m(\u001b[0m\u001b[0;34m\"bottle\"\u001b[0m\u001b[0;34m,\u001b[0m\u001b[0mmodel_name\u001b[0m\u001b[0;34m,\u001b[0m\u001b[0mfeature_dim\u001b[0m\u001b[0;34m=\u001b[0m\u001b[0mfeature_dim\u001b[0m\u001b[0;34m,\u001b[0m\u001b[0mpartition\u001b[0m\u001b[0;34m=\u001b[0m\u001b[0;36m10\u001b[0m\u001b[0;34m)\u001b[0m\u001b[0;34m\u001b[0m\u001b[0;34m\u001b[0m\u001b[0m\n\u001b[0;32m---> 17\u001b[0;31m \u001b[0mload_data_to_vearch\u001b[0m\u001b[0;34m(\u001b[0m\u001b[0mmodel_name\u001b[0m\u001b[0;34m=\u001b[0m\u001b[0mmodel_name\u001b[0m\u001b[0;34m)\u001b[0m\u001b[0;34m\u001b[0m\u001b[0;34m\u001b[0m\u001b[0m\n\u001b[0m",
      "\u001b[0;32m/data/data-science/rsong/mm811imgaeid/util/load_bottles.py\u001b[0m in \u001b[0;36mload_data_to_vearch\u001b[0;34m(data_path, model_name)\u001b[0m\n\u001b[1;32m     67\u001b[0m         \u001b[0mfname\u001b[0m \u001b[0;34m=\u001b[0m \u001b[0;34mf\"{data_path}/images/{item['class']}/{item['file_name']}\"\u001b[0m\u001b[0;34m\u001b[0m\u001b[0;34m\u001b[0m\u001b[0m\n\u001b[1;32m     68\u001b[0m         \u001b[0mlogger\u001b[0m\u001b[0;34m.\u001b[0m\u001b[0mdebug\u001b[0m\u001b[0;34m(\u001b[0m\u001b[0;34mf\"proncessing {fname}\"\u001b[0m\u001b[0;34m)\u001b[0m\u001b[0;34m\u001b[0m\u001b[0;34m\u001b[0m\u001b[0m\n\u001b[0;32m---> 69\u001b[0;31m         \u001b[0mres\u001b[0m \u001b[0;34m=\u001b[0m \u001b[0mutil\u001b[0m\u001b[0;34m.\u001b[0m\u001b[0madd_image_index\u001b[0m\u001b[0;34m(\u001b[0m\u001b[0mfname\u001b[0m\u001b[0;34m,\u001b[0m\u001b[0msid\u001b[0m\u001b[0;34m=\u001b[0m\u001b[0mitem\u001b[0m\u001b[0;34m[\u001b[0m\u001b[0;34m\"id\"\u001b[0m\u001b[0;34m]\u001b[0m\u001b[0;34m,\u001b[0m \u001b[0mkeyword\u001b[0m\u001b[0;34m=\u001b[0m\u001b[0mitem\u001b[0m\u001b[0;34m[\u001b[0m\u001b[0;34m\"keyword\"\u001b[0m\u001b[0;34m]\u001b[0m\u001b[0;34m,\u001b[0m\u001b[0mtags\u001b[0m\u001b[0;34m=\u001b[0m\u001b[0mitem\u001b[0m\u001b[0;34m[\u001b[0m\u001b[0;34m\"class\"\u001b[0m\u001b[0;34m]\u001b[0m\u001b[0;34m)\u001b[0m\u001b[0;34m\u001b[0m\u001b[0;34m\u001b[0m\u001b[0m\n\u001b[0m\u001b[1;32m     70\u001b[0m         \u001b[0mlogger\u001b[0m\u001b[0;34m.\u001b[0m\u001b[0mdebug\u001b[0m\u001b[0;34m(\u001b[0m\u001b[0mres\u001b[0m\u001b[0;34m)\u001b[0m\u001b[0;34m\u001b[0m\u001b[0;34m\u001b[0m\u001b[0m\n\u001b[1;32m     71\u001b[0m         \u001b[0;31m# break\u001b[0m\u001b[0;34m\u001b[0m\u001b[0;34m\u001b[0m\u001b[0;34m\u001b[0m\u001b[0m\n",
      "\u001b[0;32m/data/data-science/rsong/mm811imgaeid/util/vearchutil.py\u001b[0m in \u001b[0;36madd_image_index\u001b[0;34m(self, image_name, sid, keyword, tags, uuid)\u001b[0m\n\u001b[1;32m     86\u001b[0m         \u001b[0;32mif\u001b[0m \u001b[0mresponse\u001b[0m\u001b[0;34m.\u001b[0m\u001b[0mstatus_code\u001b[0m \u001b[0;34m!=\u001b[0m \u001b[0;36m200\u001b[0m\u001b[0;34m:\u001b[0m\u001b[0;34m\u001b[0m\u001b[0;34m\u001b[0m\u001b[0m\n\u001b[1;32m     87\u001b[0m             \u001b[0mlogger\u001b[0m\u001b[0;34m.\u001b[0m\u001b[0merror\u001b[0m\u001b[0;34m(\u001b[0m\u001b[0mresponse\u001b[0m\u001b[0;34m.\u001b[0m\u001b[0mtext\u001b[0m\u001b[0;34m)\u001b[0m\u001b[0;34m\u001b[0m\u001b[0;34m\u001b[0m\u001b[0m\n\u001b[0;32m---> 88\u001b[0;31m             \u001b[0;32mraise\u001b[0m \u001b[0mVearchIndexError\u001b[0m\u001b[0;34m(\u001b[0m\u001b[0mresponse\u001b[0m\u001b[0;34m.\u001b[0m\u001b[0mtext\u001b[0m\u001b[0;34m)\u001b[0m\u001b[0;34m\u001b[0m\u001b[0;34m\u001b[0m\u001b[0m\n\u001b[0m\u001b[1;32m     89\u001b[0m \u001b[0;34m\u001b[0m\u001b[0m\n\u001b[1;32m     90\u001b[0m \u001b[0;34m\u001b[0m\u001b[0m\n",
      "\u001b[0;31mVearchIndexError\u001b[0m: HTTPConnectionPool(host='vearch', port=9001): Max retries exceeded with url: /bottle/resnet/51d41fce-20b7-4c38-aff5-c25cc77cf304 (Caused by NewConnectionError('<urllib3.connection.HTTPConnection object at 0x7faa2cf5c208>: Failed to establish a new connection: [Errno -2] Name or service not known',))"
     ]
    }
   ],
   "source": [
    "from util.load_bottles import load_data_to_vearch\n",
    "from init_vearch_local import create_space,delete_space,create_db\n",
    "from util.vearchutil import VearchUtil\n",
    "\n",
    "db_name=\"bottle\"\n",
    "create_db(db_name)\n",
    "\n",
    "model_name = \"resnet\"\n",
    "image_name = \"./data/zerobox/images/blackbottles/00001.png\"\n",
    "util = VearchUtil(model_name=model_name)\n",
    "item = util.extract_feature(image=image_name)\n",
    "feature_dim = len(item)\n",
    "print(feature_dim)\n",
    "\n",
    "delete_space(\"bottle\",model_name)\n",
    "create_space(\"bottle\",model_name,feature_dim=feature_dim,partition=10)\n",
    "load_data_to_vearch(model_name=model_name)"
   ]
  }
 ],
 "metadata": {
  "interpreter": {
   "hash": "a4508d0e2e0be84e90ff361a3824194c554edc39894d10f09a30d81ec9c033e6"
  },
  "kernelspec": {
   "display_name": "Python 3.8.10 64-bit ('.venv': venv)",
   "language": "python",
   "name": "python3"
  },
  "language_info": {
   "codemirror_mode": {
    "name": "ipython",
    "version": 3
   },
   "file_extension": ".py",
   "mimetype": "text/x-python",
   "name": "python",
   "nbconvert_exporter": "python",
   "pygments_lexer": "ipython3",
   "version": "3.8.10"
  },
  "orig_nbformat": 4
 },
 "nbformat": 4,
 "nbformat_minor": 2
}
