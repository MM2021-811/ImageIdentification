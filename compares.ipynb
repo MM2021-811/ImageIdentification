{
 "cells": [
  {
   "cell_type": "code",
   "execution_count": null,
   "metadata": {},
   "outputs": [],
   "source": [
    "# test search result\n",
    "# exact match keep the record for later step\n",
    "from util.vearchutil import ImageSearch, VearchUtil\n",
    "from pprint import pprint\n",
    "from PIL import Image\n",
    "import cv2\n",
    "from pathlib import Path\n",
    "import matplotlib.pyplot as plt\n",
    "import numpy as np\n",
    "from util.testutil import TestUtil\n",
    "\n",
    "import torch\n",
    "import torchvision.transforms as T"
   ]
  },
  {
   "cell_type": "code",
   "execution_count": 1,
   "metadata": {},
   "outputs": [
    {
     "name": "stderr",
     "output_type": "stream",
     "text": [
      "INFO 2021-12-01 19:11:05,399 load_bottles 879754 139881438574400 create_dataset_metadata(100)\n"
     ]
    }
   ],
   "source": [
    "from util.load_bottles import create_dataset_metadata\n",
    "# create_dataset_metadata()\n",
    "create_dataset_metadata(data_path=\"./data/zerobox_light\")"
   ]
  },
  {
   "cell_type": "code",
   "execution_count": null,
   "metadata": {},
   "outputs": [],
   "source": [
    "from util.load_bottles import load_data_to_vearch\n",
    "from init_vearch_local import create_space,delete_space,create_db\n",
    "from util.vearchutil import VearchUtil\n",
    "\n",
    "db_name=\"bottle\"\n",
    "create_db(db_name)\n",
    "\n",
    "model_name = \"alexnet\"\n",
    "image_name = \"./data/zerobox/images/blackbottles/00001.png\"\n",
    "util = VearchUtil(model_name=model_name)\n",
    "item = util.extract_feature(image=image_name)\n",
    "feature_dim = len(item)\n",
    "print(feature_dim)\n",
    "\n",
    "delete_space(\"bottle\",model_name)\n",
    "create_space(\"bottle\",model_name,feature_dim=feature_dim,partition=4)\n",
    "load_data_to_vearch(model_name=model_name)\n"
   ]
  },
  {
   "cell_type": "code",
   "execution_count": null,
   "metadata": {},
   "outputs": [],
   "source": [
    "from util.testutil import TestUtil\n",
    "from pprint import pprint\n",
    "\n",
    "# batch test results\n",
    "testutil = TestUtil(model_name=\"alexnet\")\n",
    "(accuracy, cmatrix,wrong_results) = testutil.test()\n",
    "\n",
    "pprint(cmatrix)\n",
    "pprint(f\"Final accuracy: {accuracy}\")\n",
    "print(\"Wrong results:\")\n",
    "pprint(wrong_results)"
   ]
  },
  {
   "cell_type": "code",
   "execution_count": null,
   "metadata": {},
   "outputs": [],
   "source": [
    "from util.load_bottles import load_data_to_vearch\n",
    "from init_vearch_local import create_space,delete_space,create_db\n",
    "from util.vearchutil import VearchUtil\n",
    "\n",
    "db_name=\"bottle\"\n",
    "create_db(db_name)\n",
    "\n",
    "model_name = \"vgg16\"\n",
    "image_name = \"./data/zerobox/images/blackbottles/00001.png\"\n",
    "util = VearchUtil(model_name=model_name)\n",
    "item = util.extract_feature(image=image_name)\n",
    "feature_dim = len(item)\n",
    "print(feature_dim)\n",
    "\n",
    "delete_space(\"bottle\",model_name)\n",
    "create_space(\"bottle\",model_name,feature_dim=feature_dim,partition=4)\n",
    "load_data_to_vearch(model_name=model_name)"
   ]
  },
  {
   "cell_type": "code",
   "execution_count": null,
   "metadata": {},
   "outputs": [],
   "source": [
    "# batch test results\n",
    "from util.testutil import TestUtil\n",
    "from pprint import pprint\n",
    "\n",
    "testutil = TestUtil(model_name=\"vgg16\",data_path=\"./data/zerobox_light\")\n",
    "(accuracy, cmatrix,wrong_results) = testutil.test()\n",
    "\n",
    "pprint(cmatrix)\n",
    "pprint(f\"Final accuracy: {accuracy}\")\n",
    "print(\"Wrong results:\")\n",
    "pprint(wrong_results)\n"
   ]
  },
  {
   "cell_type": "markdown",
   "metadata": {},
   "source": [
    "```\n",
    "INFO 2021-12-01 19:24:43,278 testutil 888250 139659146700608 TestUtil test vgg16\n",
    "            babyblue01  babyblue02  beige01  lavender01  notfound  red01  red02  white  white01  white02  white03  whitecup  yellow02  yellow03\n",
    "babyblue01         1.0         0.0      0.0         0.0       0.0    0.0    0.0    0.0      0.0      1.0      0.0       0.0       0.0       0.0\n",
    "babyblue02         0.0         1.0      0.0         0.0       0.0    0.0    0.0    0.0      0.0      0.0      0.0       0.0       0.0       0.0\n",
    "beige01            0.0         0.0      3.0         0.0       0.0    0.0    0.0    0.0      0.0      1.0      0.0       0.0       0.0       0.0\n",
    "lavender01         0.0         0.0      0.0         1.0       0.0    0.0    0.0    0.0      0.0      0.0      0.0       0.0       1.0       0.0\n",
    "notfound           0.0         0.0      0.0         0.0       0.0    0.0    0.0    0.0      0.0      0.0      0.0       0.0       0.0       0.0\n",
    "red01              0.0         0.0      0.0         0.0       0.0    5.0    0.0    0.0      0.0      0.0      0.0       0.0       0.0       0.0\n",
    "red02              0.0         0.0      0.0         0.0       0.0    0.0    3.0    0.0      0.0      0.0      0.0       0.0       0.0       0.0\n",
    "white              0.0         0.0      0.0         0.0       0.0    0.0    0.0    9.0      0.0      0.0      0.0       0.0       0.0       0.0\n",
    "white01            0.0         0.0      0.0         0.0       0.0    0.0    0.0    0.0      1.0      0.0      0.0       0.0       0.0       0.0\n",
    "white02            0.0         0.0      1.0         0.0       0.0    0.0    0.0    0.0      0.0      1.0      0.0       0.0       0.0       0.0\n",
    "white03            0.0         0.0      0.0         0.0       0.0    0.0    0.0    0.0      0.0      0.0      1.0       0.0       0.0       0.0\n",
    "whitecup           0.0         0.0      0.0         0.0       0.0    0.0    0.0    0.0      0.0      0.0      0.0       5.0       0.0       0.0\n",
    "yellow02           0.0         0.0      0.0         0.0       0.0    0.0    0.0    0.0      0.0      0.0      0.0       0.0       1.0       0.0\n",
    "yellow03           0.0         1.0      0.0         0.0       0.0    0.0    0.0    0.0      1.0      0.0      0.0       0.0       0.0       0.0\n",
    "'Final accuracy: 0.8421052631578947'\n",
    "Wrong results:\n",
    "['./data/zerobox_light/images/babyblue01/output0079.png',\n",
    " './data/zerobox_light/images/beige01/output0072.png',\n",
    " './data/zerobox_light/images/lavender01/output0084.png',\n",
    " './data/zerobox_light/images/white02/output0064.png',\n",
    " './data/zerobox_light/images/yellow03/bumbler0021.png',\n",
    " './data/zerobox_light/images/yellow03/bumbler0022.png']\n",
    "```"
   ]
  },
  {
   "cell_type": "code",
   "execution_count": null,
   "metadata": {},
   "outputs": [],
   "source": [
    "from util.load_bottles import load_data_to_vearch\n",
    "from init_vearch_local import create_space,delete_space,create_db\n",
    "from util.vearchutil import VearchUtil\n",
    "\n",
    "db_name=\"bottle\"\n",
    "create_db(db_name)\n",
    "\n",
    "model_name = \"resnet\"\n",
    "image_name = \"./data/zerobox/images/blackbottles/00001.png\"\n",
    "util = VearchUtil(model_name=model_name)\n",
    "item = util.extract_feature(image=image_name)\n",
    "feature_dim = len(item)\n",
    "print(feature_dim)\n",
    "\n",
    "delete_space(\"bottle\",model_name)\n",
    "create_space(\"bottle\",model_name,feature_dim=feature_dim,partition=10)\n",
    "load_data_to_vearch(model_name=model_name)"
   ]
  }
 ],
 "metadata": {
  "interpreter": {
   "hash": "a4508d0e2e0be84e90ff361a3824194c554edc39894d10f09a30d81ec9c033e6"
  },
  "kernelspec": {
   "display_name": "Python 3.8.10 64-bit ('.venv': venv)",
   "language": "python",
   "name": "python3"
  },
  "language_info": {
   "codemirror_mode": {
    "name": "ipython",
    "version": 3
   },
   "file_extension": ".py",
   "mimetype": "text/x-python",
   "name": "python",
   "nbconvert_exporter": "python",
   "pygments_lexer": "ipython3",
   "version": "3.8.10"
  },
  "orig_nbformat": 4
 },
 "nbformat": 4,
 "nbformat_minor": 2
}
