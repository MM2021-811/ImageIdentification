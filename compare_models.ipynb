{
 "cells": [
  {
   "cell_type": "code",
   "execution_count": 2,
   "metadata": {},
   "outputs": [
    {
     "name": "stdout",
     "output_type": "stream",
     "text": [
      "----------------------------------------------------------------\n",
      "        Layer (type)               Output Shape         Param #\n",
      "================================================================\n",
      "            Conv2d-1           [64, 64, 55, 55]          23,296\n",
      "              ReLU-2           [64, 64, 55, 55]               0\n",
      "         MaxPool2d-3           [64, 64, 27, 27]               0\n",
      "            Conv2d-4          [64, 192, 27, 27]         307,392\n",
      "              ReLU-5          [64, 192, 27, 27]               0\n",
      "         MaxPool2d-6          [64, 192, 13, 13]               0\n",
      "            Conv2d-7          [64, 384, 13, 13]         663,936\n",
      "              ReLU-8          [64, 384, 13, 13]               0\n",
      "            Conv2d-9          [64, 256, 13, 13]         884,992\n",
      "             ReLU-10          [64, 256, 13, 13]               0\n",
      "           Conv2d-11          [64, 256, 13, 13]         590,080\n",
      "             ReLU-12          [64, 256, 13, 13]               0\n",
      "        MaxPool2d-13            [64, 256, 6, 6]               0\n",
      "AdaptiveAvgPool2d-14            [64, 256, 6, 6]               0\n",
      "          Dropout-15                 [64, 9216]               0\n",
      "           Linear-16                 [64, 4096]      37,752,832\n",
      "             ReLU-17                 [64, 4096]               0\n",
      "          Dropout-18                 [64, 4096]               0\n",
      "           Linear-19                 [64, 4096]      16,781,312\n",
      "             ReLU-20                 [64, 4096]               0\n",
      "           Linear-21                  [64, 100]         409,700\n",
      "================================================================\n",
      "Total params: 57,413,540\n",
      "Trainable params: 57,413,540\n",
      "Non-trainable params: 0\n",
      "----------------------------------------------------------------\n",
      "Input size (MB): 36.75\n",
      "Forward/backward pass size (MB): 535.80\n",
      "Params size (MB): 219.02\n",
      "Estimated Total Size (MB): 791.56\n",
      "----------------------------------------------------------------\n"
     ]
    }
   ],
   "source": [
    "# original alexnet\n",
    "import torchvision.models as models\n",
    "import torch\n",
    "from pprint import pprint\n",
    "import torchsummary\n",
    "\n",
    "use_cuda = True\n",
    "device = torch.device(\"cuda\" if use_cuda else \"cpu\")\n",
    "\n",
    "model = models.alexnet(pretrained=False,num_classes=100).to(device)\n",
    "# model = AlphaAlexNet(num_classes=100).to(device)\n",
    "model.train()\n",
    "\n",
    "torchsummary.summary(model,input_size=(3,224,224),batch_size=64)\n",
    "\n",
    "# CUDA_VISIBLE_DEVICES=5,6 python train_alexnet.py --epochs 14\n",
    "# Test set: Average loss: 0.0025, Accuracy: 4305/10000 (43%)\n",
    "# Elapsed Time: 2013.083889245987"
   ]
  },
  {
   "cell_type": "code",
   "execution_count": 3,
   "metadata": {},
   "outputs": [
    {
     "name": "stdout",
     "output_type": "stream",
     "text": [
      "----------------------------------------------------------------\n",
      "        Layer (type)               Output Shape         Param #\n",
      "================================================================\n",
      "            Conv2d-1           [64, 64, 55, 55]          31,040\n",
      "              ReLU-2           [64, 64, 55, 55]               0\n",
      "         MaxPool2d-3           [64, 64, 27, 27]               0\n",
      "            Conv2d-4          [64, 192, 27, 27]         307,392\n",
      "              ReLU-5          [64, 192, 27, 27]               0\n",
      "         MaxPool2d-6          [64, 192, 13, 13]               0\n",
      "            Conv2d-7          [64, 384, 13, 13]         663,936\n",
      "              ReLU-8          [64, 384, 13, 13]               0\n",
      "            Conv2d-9          [64, 256, 13, 13]         884,992\n",
      "             ReLU-10          [64, 256, 13, 13]               0\n",
      "           Conv2d-11          [64, 256, 13, 13]         590,080\n",
      "             ReLU-12          [64, 256, 13, 13]               0\n",
      "        MaxPool2d-13            [64, 256, 6, 6]               0\n",
      "AdaptiveAvgPool2d-14            [64, 256, 6, 6]               0\n",
      "          Dropout-15                 [64, 9216]               0\n",
      "           Linear-16                 [64, 4096]      37,752,832\n",
      "             ReLU-17                 [64, 4096]               0\n",
      "          Dropout-18                 [64, 4096]               0\n",
      "           Linear-19                 [64, 4096]      16,781,312\n",
      "             ReLU-20                 [64, 4096]               0\n",
      "           Linear-21                  [64, 100]         409,700\n",
      "================================================================\n",
      "Total params: 57,421,284\n",
      "Trainable params: 57,421,284\n",
      "Non-trainable params: 0\n",
      "----------------------------------------------------------------\n",
      "Input size (MB): 49.00\n",
      "Forward/backward pass size (MB): 535.80\n",
      "Params size (MB): 219.04\n",
      "Estimated Total Size (MB): 803.84\n",
      "----------------------------------------------------------------\n"
     ]
    }
   ],
   "source": [
    "# original alexnet\n",
    "import torchvision.models as models\n",
    "import torch\n",
    "from pprint import pprint\n",
    "import torchsummary\n",
    "from util.trainingutil import AlphaAlexNet\n",
    "\n",
    "use_cuda = True\n",
    "device = torch.device(\"cuda\" if use_cuda else \"cpu\")\n",
    "\n",
    "# model = models.alexnet(pretrained=False,num_classes=100).to(device)\n",
    "model = AlphaAlexNet(num_classes=100).to(device)\n",
    "model.train()\n",
    "\n",
    "torchsummary.summary(model,input_size=(4,224,224),batch_size=64)\n",
    "\n",
    "# Input size (MB): 49.00\n",
    "# Forward/backward pass size (MB): 535.80\n",
    "# Params size (MB): 219.04\n",
    "# Estimated Total Size (MB): 803.84\n",
    "\n"
   ]
  },
  {
   "cell_type": "code",
   "execution_count": null,
   "metadata": {},
   "outputs": [],
   "source": [
    "# CUDA_VISIBLE_DEVICES=5,6 python train_alexnet.py"
   ]
  },
  {
   "cell_type": "code",
   "execution_count": null,
   "metadata": {},
   "outputs": [],
   "source": [
    "# CIFA100 with Alex 4 Channel\n",
    "# Test set: Average loss: 0.0033, Accuracy: 2304/10000 (23%)\n",
    "\n",
    "# Elapsed Time: 69457.10188913345\n",
    "\n",
    "# CifA100 ALEX Original\n",
    "# Train Epoch: 100 [49920/50000 (100%)]\tLoss: 0.673100\n",
    "# Test set: Average loss: 0.0041, Accuracy: 3773/10000 (38%)\n",
    "# Elapsed Time: 16717.547865629196"
   ]
  },
  {
   "cell_type": "code",
   "execution_count": 4,
   "metadata": {},
   "outputs": [
    {
     "name": "stdout",
     "output_type": "stream",
     "text": [
      "78\n",
      "78\n"
     ]
    }
   ],
   "source": [
    "import numpy as np\n",
    "import json\n",
    "\n",
    "data_path = \"./data/zerobox_nobg\"\n",
    "meta_file1 = f\"{data_path}/meta_train.json\"\n",
    "meta_file2 = f\"{data_path}/meta_test.json\"\n",
    "\n",
    "data1 = json.load(open(meta_file1,\"r\"))\n",
    "data2 = json.load(open(meta_file1,\"r\"))\n",
    "print(len(data1))\n",
    "print(len(data2))"
   ]
  },
  {
   "cell_type": "markdown",
   "metadata": {},
   "source": [
    "# Opitimiae AlphaWeightedAlexNet\n",
    "\n",
    "## Loss Function\n",
    "\n",
    "```py\n",
    "loss = F.mse_loss(output,labels)   # 76%\n",
    "# loss = F.cross_entropy(output, labels) 27%\n",
    "# loss = F.l1_loss(output,labels)  63%\n",
    "```\n",
    "\n",
    "```\n",
    "# ms3_loss\n",
    "Train Epoch: 20 [34560/34596 (100%)]\tLoss: 0.140699\n",
    "Test set: Average loss: 0.0008, Accuracy: 4248/5625 (76%)\n",
    "Elapsed Time: 555.5833611488342 \n",
    "```"
   ]
  }
 ],
 "metadata": {
  "interpreter": {
   "hash": "a4508d0e2e0be84e90ff361a3824194c554edc39894d10f09a30d81ec9c033e6"
  },
  "kernelspec": {
   "display_name": "Python 3.8.10 64-bit ('.venv': venv)",
   "language": "python",
   "name": "python3"
  },
  "language_info": {
   "codemirror_mode": {
    "name": "ipython",
    "version": 3
   },
   "file_extension": ".py",
   "mimetype": "text/x-python",
   "name": "python",
   "nbconvert_exporter": "python",
   "pygments_lexer": "ipython3",
   "version": "3.8.10"
  },
  "orig_nbformat": 4
 },
 "nbformat": 4,
 "nbformat_minor": 2
}
