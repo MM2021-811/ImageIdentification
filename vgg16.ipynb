{
 "cells": [
  {
   "cell_type": "markdown",
   "metadata": {},
   "source": [
    "# High level steps\n",
    "1. Follow readme and have environment setup ready\n",
    "2. Have model created under `util/image_extract/`\n",
    "3. Search image with original this will be an exact search to find the image\n",
    "4. Augment the image to simulate image caputred by different user. (image angle, shape, clour can be different. Occulusion may happen too)"
   ]
  },
  {
   "cell_type": "code",
   "execution_count": 13,
   "metadata": {},
   "outputs": [],
   "source": [
    "# test search result\n",
    "# exact match keep the record for later step\n",
    "from util.vearchutil import ImageSearch, VearchUtil\n",
    "from pprint import pprint\n",
    "from PIL import Image\n",
    "import cv2\n",
    "from pathlib import Path\n",
    "import matplotlib.pyplot as plt\n",
    "import numpy as np\n",
    "from util.testutil import TestUtil\n",
    "\n",
    "import torch\n",
    "import torchvision.transforms as T"
   ]
  },
  {
   "cell_type": "code",
   "execution_count": null,
   "metadata": {},
   "outputs": [],
   "source": [
    "# Index images with the model\n",
    "# from util.load_f101 import load_data_to_vearch\n",
    "# load_data_to_vearch(model_name=\"vgg16\")"
   ]
  },
  {
   "cell_type": "code",
   "execution_count": 16,
   "metadata": {},
   "outputs": [
    {
     "data": {
      "text/html": [
       "<style>.container { width:100% !important; }</style>"
      ],
      "text/plain": [
       "<IPython.core.display.HTML object>"
      ]
     },
     "metadata": {},
     "output_type": "display_data"
    },
    {
     "data": {
      "text/plain": [
       "'text/html'"
      ]
     },
     "metadata": {},
     "output_type": "display_data"
    },
    {
     "data": {
      "text/plain": [
       "'<style>.container { width:100% !important; }</style>'"
      ]
     },
     "metadata": {},
     "output_type": "display_data"
    }
   ],
   "source": [
    "# add current folder in PATHONPATH\n",
    "import sys\n",
    "sys.path.append('./')\n",
    "\n",
    "# from IPython.core.display import display, HTML\n",
    "# display(HTML(\"<style>.container { width:100% !important; }</style>\"))\n",
    "# display(\"text/html\", \"<style>.container { width:100% !important; }</style>\")"
   ]
  },
  {
   "cell_type": "code",
   "execution_count": 14,
   "metadata": {},
   "outputs": [],
   "source": [
    "\n",
    "def plot(imgs, with_orig=False, row_title=None, **imshow_kwargs):\n",
    "    if not isinstance(imgs[0], list):\n",
    "        # Make a 2d grid even if there's just 1 row\n",
    "        imgs = [imgs]\n",
    "\n",
    "    num_rows = len(imgs)\n",
    "    num_cols = len(imgs[0]) + with_orig\n",
    "    fig, axs = plt.subplots(nrows=num_rows, ncols=num_cols, squeeze=False)\n",
    "    for row_idx, row in enumerate(imgs):\n",
    "        row = [orig_img] + row if with_orig else row\n",
    "        for col_idx, img in enumerate(row):\n",
    "            ax = axs[row_idx, col_idx]\n",
    "            ax.imshow(np.asarray(img), **imshow_kwargs)\n",
    "            ax.set(xticklabels=[], yticklabels=[], xticks=[], yticks=[])\n",
    "\n",
    "    if with_orig:\n",
    "        axs[0, 0].set(title='Original image')\n",
    "        axs[0, 0].title.set_size(8)\n",
    "    if row_title is not None:\n",
    "        for row_idx in range(num_rows):\n",
    "            axs[row_idx, 0].set(ylabel=row_title[row_idx])\n",
    "\n",
    "    # plt.tight_layout()"
   ]
  },
  {
   "cell_type": "code",
   "execution_count": 17,
   "metadata": {},
   "outputs": [
    {
     "name": "stderr",
     "output_type": "stream",
     "text": [
      "INFO 2021-11-20 14:32:59,650 testutil 47470 140461325203264 TestUtil test vgg16\n"
     ]
    },
    {
     "name": "stdout",
     "output_type": "stream",
     "text": [
      "              blackbottles  blackcup  blacktumbler  blue  notfound  silver  \\\n",
      "blackbottles          21.0       0.0           0.0   0.0       0.0     0.0   \n",
      "blackcup               0.0       2.0           0.0   0.0       0.0     0.0   \n",
      "blacktumbler           0.0       0.0           5.0   0.0       0.0     0.0   \n",
      "blue                   0.0       0.0           0.0   5.0       0.0     0.0   \n",
      "notfound               0.0       0.0           0.0   0.0       0.0     0.0   \n",
      "silver                 0.0       0.0           0.0   0.0       0.0     7.0   \n",
      "white                  0.0       0.0           0.0   1.0       0.0     0.0   \n",
      "whitecup               0.0       0.0           0.0   0.0       0.0     0.0   \n",
      "\n",
      "              white  whitecup  \n",
      "blackbottles    0.0       0.0  \n",
      "blackcup        0.0       0.0  \n",
      "blacktumbler    0.0       0.0  \n",
      "blue            0.0       0.0  \n",
      "notfound        0.0       0.0  \n",
      "silver          0.0       0.0  \n",
      "white           8.0       0.0  \n",
      "whitecup        0.0       5.0  \n",
      "'Final accuracy: 0.9814814814814815'\n",
      "Wrong results:\n",
      "['./data/zerobox/images/white/000044.png']\n"
     ]
    }
   ],
   "source": [
    "# batch test results\n",
    "testutil = TestUtil(model_name=\"vgg16\")\n",
    "(accuracy, cmatrix,wrong_results) = testutil.test()\n",
    "\n",
    "pprint(cmatrix)\n",
    "pprint(f\"Final accuracy: {accuracy}\")\n",
    "print(\"Wrong results:\")\n",
    "pprint(wrong_results)"
   ]
  },
  {
   "cell_type": "code",
   "execution_count": 12,
   "metadata": {},
   "outputs": [
    {
     "name": "stdout",
     "output_type": "stream",
     "text": [
      "{'data': {'image_name': './data/zerobox/images/blue/000012.png',\n",
      "          'keyword': '',\n",
      "          'model_name': 'vgg16',\n",
      "          'sid': 'blue',\n",
      "          'tags': ['blue'],\n",
      "          'uuid': '701912e0-545d-4f9f-a5ec-291a7faba0e2'},\n",
      " 'score': 0.9351422786712646,\n",
      " 'vearch_id': '701912e0-545d-4f9f-a5ec-291a7faba0e2'}\n"
     ]
    },
    {
     "data": {
      "image/png": "[encoded data removed]",
      "text/plain": [
       "<Figure size 432x288 with 2 Axes>"
      ]
     },
     "metadata": {},
     "output_type": "display_data"
    }
   ],
   "source": [
    "util = VearchUtil(model_name=\"vgg16\")\n",
    "image_name=\"./data/zerobox/images/white/000044.png\"\n",
    "item = util.search_by_image(image=image_name)\n",
    "pprint(item)\n",
    "\n",
    "image = cv2.imread(image_name)\n",
    "image = cv2.cvtColor(image, cv2.COLOR_BGR2RGB)\n",
    "\n",
    "image2 = cv2.imread(item[\"data\"][\"image_name\"])\n",
    "image2 = cv2.cvtColor(image2, cv2.COLOR_BGR2RGB)\n",
    "\n",
    "plot([image,image2])\n",
    "\n"
   ]
  },
  {
   "cell_type": "code",
   "execution_count": null,
   "metadata": {},
   "outputs": [],
   "source": [
    "# todo augment the image to simulate in real world image\n"
   ]
  },
  {
   "cell_type": "code",
   "execution_count": null,
   "metadata": {},
   "outputs": [],
   "source": [
    "# orig_img = cv2.imread(image_name)\n",
    "# orig_img = cv2.cvtColor(orig_img,cv2.COLOR_BGR2RGB)\n",
    "# plt.imshow(orig_img)\n",
    "orig_img = Image.open(image_name)\n",
    "\n",
    "pprint(type(orig_img))"
   ]
  },
  {
   "cell_type": "code",
   "execution_count": null,
   "metadata": {},
   "outputs": [],
   "source": [
    "# update colors\n",
    "jitter = T.ColorJitter(brightness=.5, hue=.3)\n",
    "jitted_imgs = [jitter(orig_img) for _ in range(4)]\n",
    "plot(jitted_imgs)"
   ]
  },
  {
   "cell_type": "code",
   "execution_count": null,
   "metadata": {},
   "outputs": [],
   "source": [
    "blurrer = T.GaussianBlur(kernel_size=(5, 5), sigma=(0.1, 5))\n",
    "blurred_imgs = [blurrer(orig_img) for _ in range(4)]\n",
    "plot(blurred_imgs)"
   ]
  },
  {
   "cell_type": "code",
   "execution_count": null,
   "metadata": {},
   "outputs": [],
   "source": [
    "# test transform on https://albumentations-demo.herokuapp.com/\n",
    "import albumentations as A\n",
    "import cv2\n",
    "\n",
    "# Declare an augmentation pipeline\n",
    "transform = A.Compose([\n",
    "    # A.RandomCrop(width=256, height=256),\n",
    "    A.HorizontalFlip(p=0.5),\n",
    "    A.RandomBrightnessContrast(p=0.2),\n",
    "    A.ISONoise(color_shift=[0.01,0.13],intensity=[0.10,1.13]),\n",
    "    A.MotionBlur(blur_limit=[4,10]),\n",
    "    A.OpticalDistortion(distort_limit=[-0.4,0.2],shift_limit=[-0.15,0.08],interpolation=4,border_mode=1),\n",
    "    # A.RandomGamma(),\n",
    "    # A.RandomRain(slant_lower=-9,slant_upper=6,drop_length=3,drop_width=1,blur_value=1,drop_color=(255,0,0))\n",
    "])\n",
    "\n",
    "# Read an image with OpenCV and convert it to the RGB colorspace\n",
    "image = cv2.imread(image_name)\n",
    "image = cv2.cvtColor(image, cv2.COLOR_BGR2RGB)\n",
    "\n",
    "# Augment an image\n",
    "transformed = transform(image=image)\n",
    "transformed_image = transformed[\"image\"]\n",
    "\n",
    "item = util.search_by_image(keyword=restaurant,image=image)\n",
    "t_item = util.search_by_image(keyword=restaurant,image=transformed_image)\n",
    "\n",
    "f_image = cv2.imread(t_item[\"data\"][\"image_name\"])\n",
    "f_image = cv2.cvtColor(f_image, cv2.COLOR_BGR2RGB)\n",
    "\n",
    "plot([transformed_image,f_image])\n",
    "\n",
    "pprint(item)\n",
    "pprint(t_item)\n"
   ]
  },
  {
   "cell_type": "code",
   "execution_count": null,
   "metadata": {},
   "outputs": [],
   "source": []
  },
  {
   "cell_type": "code",
   "execution_count": null,
   "metadata": {},
   "outputs": [],
   "source": []
  }
 ],
 "metadata": {
  "interpreter": {
   "hash": "a709011b1dc5cde7d9b7826bbdbb7c84d675e2a04d523fba3441268a7c7e41e5"
  },
  "kernelspec": {
   "display_name": "Python 3.8.10 64-bit ('.venv': venv)",
   "language": "python",
   "name": "python3"
  },
  "language_info": {
   "codemirror_mode": {
    "name": "ipython",
    "version": 3
   },
   "file_extension": ".py",
   "mimetype": "text/x-python",
   "name": "python",
   "nbconvert_exporter": "python",
   "pygments_lexer": "ipython3",
   "version": "3.8.10"
  },
  "orig_nbformat": 4
 },
 "nbformat": 4,
 "nbformat_minor": 2
}
