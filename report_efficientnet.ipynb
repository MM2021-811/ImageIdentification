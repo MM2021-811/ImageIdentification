{
 "cells": [
  {
   "cell_type": "markdown",
   "metadata": {},
   "source": [
    "## EfficientNet - Pretrained"
   ]
  },
  {
   "cell_type": "code",
   "execution_count": 1,
   "metadata": {},
   "outputs": [
    {
     "name": "stdout",
     "output_type": "stream",
     "text": [
      "{\"code\":200,\"msg\":\"success\",\"data\":{\"id\":1,\"name\":\"bottle\"}}\n",
      "Loaded pretrained weights for efficientnet-b0\n",
      "1280\n",
      "{\"code\":565,\"msg\":\"space_notexists\"}\n",
      "b\"('Connection aborted.', RemoteDisconnected('Remote end closed connection without response',))\"\n"
     ]
    },
    {
     "name": "stderr",
     "output_type": "stream",
     "text": [
      "INFO 2022-01-16 12:26:28,121 load_bottles 1332700 140661365206400 load_data_to_vearch(./data/zerobox_nobg,efficientnet)\n"
     ]
    },
    {
     "name": "stdout",
     "output_type": "stream",
     "text": [
      "b\"HTTPConnectionPool(host='vearch', port=8817): Max retries exceeded with url: /space/bottle/efficientnet (Caused by NewConnectionError('<urllib3.connection.HTTPConnection object at 0x7f1c804de668>: Failed to establish a new connection: [Errno 111] Connection refused',))\"\n",
      "Loaded pretrained weights for efficientnet-b0\n"
     ]
    },
    {
     "name": "stderr",
     "output_type": "stream",
     "text": [
      "ERROR 2022-01-16 12:26:29,838 vearchutil 1332700 140661365206400 HTTPConnectionPool(host='vearch', port=9001): Max retries exceeded with url: /bottle/efficientnet/1649aaf1-03b8-40cc-b97b-33b62a9ec9fb (Caused by NewConnectionError('<urllib3.connection.HTTPConnection object at 0x7f1c804e90f0>: Failed to establish a new connection: [Errno -2] Name or service not known',))\n"
     ]
    },
    {
     "ename": "VearchIndexError",
     "evalue": "HTTPConnectionPool(host='vearch', port=9001): Max retries exceeded with url: /bottle/efficientnet/1649aaf1-03b8-40cc-b97b-33b62a9ec9fb (Caused by NewConnectionError('<urllib3.connection.HTTPConnection object at 0x7f1c804e90f0>: Failed to establish a new connection: [Errno -2] Name or service not known',))",
     "output_type": "error",
     "traceback": [
      "\u001b[0;31m---------------------------------------------------------------------------\u001b[0m",
      "\u001b[0;31mVearchIndexError\u001b[0m                          Traceback (most recent call last)",
      "Input \u001b[0;32mIn [1]\u001b[0m, in \u001b[0;36m<module>\u001b[0;34m\u001b[0m\n\u001b[1;32m     15\u001b[0m delete_space(\u001b[38;5;124m\"\u001b[39m\u001b[38;5;124mbottle\u001b[39m\u001b[38;5;124m\"\u001b[39m,model_name)\n\u001b[1;32m     16\u001b[0m create_space(\u001b[38;5;124m\"\u001b[39m\u001b[38;5;124mbottle\u001b[39m\u001b[38;5;124m\"\u001b[39m,model_name,feature_dim\u001b[38;5;241m=\u001b[39mfeature_dim,partition\u001b[38;5;241m=\u001b[39m\u001b[38;5;241m128\u001b[39m)\n\u001b[0;32m---> 17\u001b[0m \u001b[43mload_data_to_vearch\u001b[49m\u001b[43m(\u001b[49m\u001b[43mdata_path\u001b[49m\u001b[38;5;241;43m=\u001b[39;49m\u001b[38;5;124;43m\"\u001b[39;49m\u001b[38;5;124;43m./data/zerobox_nobg\u001b[39;49m\u001b[38;5;124;43m\"\u001b[39;49m\u001b[43m,\u001b[49m\u001b[43m \u001b[49m\u001b[43mmodel_name\u001b[49m\u001b[38;5;241;43m=\u001b[39;49m\u001b[43mmodel_name\u001b[49m\u001b[43m)\u001b[49m\n",
      "File \u001b[0;32m/home/lihang/chenggui/bottle/ImageIdentification/util/load_bottles.py:79\u001b[0m, in \u001b[0;36mload_data_to_vearch\u001b[0;34m(data_path, model_name)\u001b[0m\n\u001b[1;32m     77\u001b[0m fname \u001b[38;5;241m=\u001b[39m \u001b[38;5;124mf\u001b[39m\u001b[38;5;124m\"\u001b[39m\u001b[38;5;132;01m{\u001b[39;00mdata_path\u001b[38;5;132;01m}\u001b[39;00m\u001b[38;5;124m/images/\u001b[39m\u001b[38;5;132;01m{\u001b[39;00mitem[\u001b[38;5;124m'\u001b[39m\u001b[38;5;124mclass\u001b[39m\u001b[38;5;124m'\u001b[39m]\u001b[38;5;132;01m}\u001b[39;00m\u001b[38;5;124m/\u001b[39m\u001b[38;5;132;01m{\u001b[39;00mitem[\u001b[38;5;124m'\u001b[39m\u001b[38;5;124mfile_name\u001b[39m\u001b[38;5;124m'\u001b[39m]\u001b[38;5;132;01m}\u001b[39;00m\u001b[38;5;124m\"\u001b[39m\n\u001b[1;32m     78\u001b[0m logger\u001b[38;5;241m.\u001b[39mdebug(\u001b[38;5;124mf\u001b[39m\u001b[38;5;124m\"\u001b[39m\u001b[38;5;124mproncessing \u001b[39m\u001b[38;5;132;01m{\u001b[39;00mfname\u001b[38;5;132;01m}\u001b[39;00m\u001b[38;5;124m\"\u001b[39m)\n\u001b[0;32m---> 79\u001b[0m res \u001b[38;5;241m=\u001b[39m \u001b[43mutil\u001b[49m\u001b[38;5;241;43m.\u001b[39;49m\u001b[43madd_image_index\u001b[49m\u001b[43m(\u001b[49m\u001b[43mfname\u001b[49m\u001b[43m,\u001b[49m\u001b[43msid\u001b[49m\u001b[38;5;241;43m=\u001b[39;49m\u001b[43mitem\u001b[49m\u001b[43m[\u001b[49m\u001b[38;5;124;43m\"\u001b[39;49m\u001b[38;5;124;43mid\u001b[39;49m\u001b[38;5;124;43m\"\u001b[39;49m\u001b[43m]\u001b[49m\u001b[43m,\u001b[49m\u001b[43m \u001b[49m\u001b[43mkeyword\u001b[49m\u001b[38;5;241;43m=\u001b[39;49m\u001b[43mitem\u001b[49m\u001b[43m[\u001b[49m\u001b[38;5;124;43m\"\u001b[39;49m\u001b[38;5;124;43mkeyword\u001b[39;49m\u001b[38;5;124;43m\"\u001b[39;49m\u001b[43m]\u001b[49m\u001b[43m,\u001b[49m\u001b[43mtags\u001b[49m\u001b[38;5;241;43m=\u001b[39;49m\u001b[43mitem\u001b[49m\u001b[43m[\u001b[49m\u001b[38;5;124;43m\"\u001b[39;49m\u001b[38;5;124;43mclass\u001b[39;49m\u001b[38;5;124;43m\"\u001b[39;49m\u001b[43m]\u001b[49m\u001b[43m)\u001b[49m\n\u001b[1;32m     80\u001b[0m logger\u001b[38;5;241m.\u001b[39mdebug(res)\n",
      "File \u001b[0;32m/home/lihang/chenggui/bottle/ImageIdentification/util/vearchutil.py:88\u001b[0m, in \u001b[0;36mVearchUtil.add_image_index\u001b[0;34m(self, image_name, sid, keyword, tags, uuid)\u001b[0m\n\u001b[1;32m     86\u001b[0m \u001b[38;5;28;01mif\u001b[39;00m response\u001b[38;5;241m.\u001b[39mstatus_code \u001b[38;5;241m!=\u001b[39m \u001b[38;5;241m200\u001b[39m:\n\u001b[1;32m     87\u001b[0m     logger\u001b[38;5;241m.\u001b[39merror(response\u001b[38;5;241m.\u001b[39mtext)\n\u001b[0;32m---> 88\u001b[0m     \u001b[38;5;28;01mraise\u001b[39;00m VearchIndexError(response\u001b[38;5;241m.\u001b[39mtext)\n\u001b[1;32m     91\u001b[0m \u001b[38;5;28;01mreturn\u001b[39;00m response\u001b[38;5;241m.\u001b[39mtext\n",
      "\u001b[0;31mVearchIndexError\u001b[0m: HTTPConnectionPool(host='vearch', port=9001): Max retries exceeded with url: /bottle/efficientnet/1649aaf1-03b8-40cc-b97b-33b62a9ec9fb (Caused by NewConnectionError('<urllib3.connection.HTTPConnection object at 0x7f1c804e90f0>: Failed to establish a new connection: [Errno -2] Name or service not known',))"
     ]
    }
   ],
   "source": [
    "from util.load_bottles import load_data_to_vearch\n",
    "from init_vearch_local import create_space,delete_space,create_db\n",
    "from util.vearchutil import VearchUtil\n",
    "\n",
    "db_name=\"bottle\"\n",
    "create_db(db_name)\n",
    "\n",
    "model_name = \"efficientnet\"\n",
    "image_name = \"./data/zerobox/images/blackbottles/00001.png\"\n",
    "util = VearchUtil(model_name=model_name)\n",
    "item = util.extract_feature(image=image_name)\n",
    "feature_dim = len(item)\n",
    "print(feature_dim)\n",
    "\n",
    "delete_space(\"bottle\",model_name)\n",
    "create_space(\"bottle\",model_name,feature_dim=feature_dim,partition=64)\n",
    "load_data_to_vearch(data_path=\"./data/zerobox_nobg\", model_name=model_name)"
   ]
  },
  {
   "cell_type": "code",
   "execution_count": 4,
   "metadata": {},
   "outputs": [
    {
     "name": "stderr",
     "output_type": "stream",
     "text": [
      "INFO 2022-01-15 23:29:56,573 testutil 1548025 140368862489984 TestUtil test efficientnet\n"
     ]
    },
    {
     "name": "stdout",
     "output_type": "stream",
     "text": [
      "Loaded pretrained weights for efficientnet-b0\n",
      "'Final accuracy: 0.04'\n",
      "              babyblue01  babyblue02  beige01  blackbottles  blackcup  \\\n",
      "babyblue01           0.0         0.0      0.0           0.0       0.0   \n",
      "babyblue02           0.0         0.0      0.0           0.0       0.0   \n",
      "beige01              0.0         0.0      1.0           0.0       0.0   \n",
      "blackbottles         0.0         0.0      1.0           0.0       0.0   \n",
      "blackcup             0.0         1.0      0.0           0.0       0.0   \n",
      "blacktumbler         0.0         1.0      0.0           0.0       0.0   \n",
      "blue                 0.0         0.0      0.0           0.0       0.0   \n",
      "lavender01           0.0         0.0      0.0           0.0       0.0   \n",
      "notfound             0.0         0.0      0.0           0.0       0.0   \n",
      "red01                0.0         0.0      0.0           0.0       0.0   \n",
      "red02                0.0         0.0      0.0           0.0       0.0   \n",
      "silver               0.0         0.0      0.0           0.0       0.0   \n",
      "white                0.0         0.0      1.0           0.0       0.0   \n",
      "white01              0.0         0.0      0.0           0.0       0.0   \n",
      "white02              0.0         0.0      0.0           0.0       0.0   \n",
      "white03              0.0         0.0      0.0           0.0       0.0   \n",
      "whitecup             0.0         0.0      0.0           0.0       0.0   \n",
      "yellow02             0.0         0.0      0.0           0.0       0.0   \n",
      "yellow03             0.0         0.0      0.0           0.0       0.0   \n",
      "\n",
      "              blacktumbler  blue  lavender01  notfound  red01  red02  silver  \\\n",
      "babyblue01             0.0   0.0         0.0       0.0    0.0    0.0     1.0   \n",
      "babyblue02             0.0   1.0         0.0       0.0    0.0    0.0     0.0   \n",
      "beige01                0.0   0.0         0.0       0.0    0.0    0.0     0.0   \n",
      "blackbottles           0.0   0.0         0.0       0.0    0.0    3.0     0.0   \n",
      "blackcup               0.0   0.0         0.0       0.0    0.0    0.0     0.0   \n",
      "blacktumbler           0.0   0.0         0.0       0.0    0.0    0.0     0.0   \n",
      "blue                   0.0   0.0         0.0       0.0    0.0    0.0     0.0   \n",
      "lavender01             0.0   0.0         0.0       0.0    0.0    0.0     0.0   \n",
      "notfound               0.0   0.0         0.0       0.0    0.0    0.0     0.0   \n",
      "red01                  0.0   0.0         0.0       0.0    0.0    1.0     1.0   \n",
      "red02                  0.0   0.0         1.0       0.0    0.0    0.0     0.0   \n",
      "silver                 0.0   0.0         0.0       0.0    0.0    0.0     0.0   \n",
      "white                  0.0   0.0         0.0       0.0    0.0    0.0     0.0   \n",
      "white01                0.0   1.0         0.0       0.0    0.0    0.0     0.0   \n",
      "white02                0.0   0.0         0.0       0.0    0.0    0.0     0.0   \n",
      "white03                0.0   0.0         0.0       0.0    0.0    1.0     0.0   \n",
      "whitecup               1.0   0.0         0.0       0.0    0.0    0.0     0.0   \n",
      "yellow02               0.0   0.0         0.0       0.0    0.0    0.0     1.0   \n",
      "yellow03               0.0   0.0         0.0       0.0    0.0    0.0     0.0   \n",
      "\n",
      "              white  white01  white02  white03  whitecup  yellow02  yellow03  \n",
      "babyblue01      0.0      0.0      0.0      0.0       0.0       0.0       0.0  \n",
      "babyblue02      0.0      0.0      0.0      0.0       0.0       0.0       0.0  \n",
      "beige01         0.0      0.0      1.0      0.0       0.0       0.0       0.0  \n",
      "blackbottles    0.0      0.0      0.0      0.0       0.0       0.0       0.0  \n",
      "blackcup        0.0      0.0      0.0      0.0       0.0       0.0       0.0  \n",
      "blacktumbler    0.0      0.0      0.0      0.0       0.0       0.0       0.0  \n",
      "blue            1.0      0.0      0.0      0.0       0.0       0.0       0.0  \n",
      "lavender01      0.0      0.0      0.0      0.0       0.0       0.0       1.0  \n",
      "notfound        0.0      0.0      0.0      0.0       0.0       0.0       0.0  \n",
      "red01           0.0      0.0      0.0      0.0       0.0       0.0       0.0  \n",
      "red02           0.0      0.0      0.0      0.0       0.0       0.0       1.0  \n",
      "silver          0.0      0.0      0.0      0.0       0.0       1.0       0.0  \n",
      "white           0.0      0.0      0.0      0.0       0.0       0.0       1.0  \n",
      "white01         0.0      0.0      0.0      0.0       0.0       0.0       0.0  \n",
      "white02         0.0      0.0      0.0      0.0       0.0       1.0       0.0  \n",
      "white03         0.0      0.0      0.0      0.0       0.0       0.0       0.0  \n",
      "whitecup        0.0      0.0      0.0      0.0       0.0       0.0       0.0  \n",
      "yellow02        0.0      0.0      0.0      0.0       0.0       0.0       0.0  \n",
      "yellow03        1.0      0.0      0.0      0.0       0.0       0.0       0.0  \n",
      "Wrong results:\n",
      "['./data/zerobox_nobg/images/babyblue01/output0078.png',\n",
      " './data/zerobox_nobg/images/babyblue02/bumbler0018.png',\n",
      " './data/zerobox_nobg/images/beige01/output0074.png',\n",
      " './data/zerobox_nobg/images/blackbottles/000043.png',\n",
      " './data/zerobox_nobg/images/blackbottles/000044.png',\n",
      " './data/zerobox_nobg/images/blackbottles/000047.png',\n",
      " './data/zerobox_nobg/images/blackbottles/000051.png',\n",
      " './data/zerobox_nobg/images/blackcup/00008.png',\n",
      " './data/zerobox_nobg/images/blacktumbler/00009.png',\n",
      " './data/zerobox_nobg/images/blue/00007.png',\n",
      " './data/zerobox_nobg/images/lavender01/output0090.png',\n",
      " './data/zerobox_nobg/images/red01/output0031.png',\n",
      " './data/zerobox_nobg/images/red01/output0032.png',\n",
      " './data/zerobox_nobg/images/red02/output0038.png',\n",
      " './data/zerobox_nobg/images/red02/output0043.png',\n",
      " './data/zerobox_nobg/images/silver/00008.png',\n",
      " './data/zerobox_nobg/images/white/00005.png',\n",
      " './data/zerobox_nobg/images/white/00008.png',\n",
      " './data/zerobox_nobg/images/white01/bumbler0011.png',\n",
      " './data/zerobox_nobg/images/white02/output0065.png',\n",
      " './data/zerobox_nobg/images/white03/output0065.png',\n",
      " './data/zerobox_nobg/images/whitecup/00008.png',\n",
      " './data/zerobox_nobg/images/yellow02/output0073.png',\n",
      " './data/zerobox_nobg/images/yellow03/bumbler0022.png']\n"
     ]
    }
   ],
   "source": [
    "from util.testutil import TestUtil\n",
    "from pprint import pprint\n",
    "import numpy as np\n",
    "\n",
    "# batch test results\n",
    "testutil = TestUtil(model_name=\"efficientnet\",data_path=\"./data/zerobox_nobg\")\n",
    "(accuracy, cmatrix,wrong_results) = testutil.test()\n",
    "\n",
    "\n",
    "# np.savetxt(\"./alexnet_cmatrix.csv\",cmatrix.astype(\"int\"),delimiter=',',fmt=\"%d\")\n",
    "\n",
    "cmatrix.to_csv(\"./efficientnet_cmatrix.csv\")\n",
    "\n",
    "pprint(f\"Final accuracy: {accuracy}\")\n",
    "pprint(cmatrix)\n",
    "print(\"Wrong results:\")\n",
    "pprint(wrong_results)"
   ]
  }
 ],
 "metadata": {
  "interpreter": {
   "hash": "a4508d0e2e0be84e90ff361a3824194c554edc39894d10f09a30d81ec9c033e6"
  },
  "kernelspec": {
   "display_name": "Python 3.8.10 64-bit ('.venv': venv)",
   "language": "python",
   "name": "python3"
  },
  "language_info": {
   "codemirror_mode": {
    "name": "ipython",
    "version": 3
   },
   "file_extension": ".py",
   "mimetype": "text/x-python",
   "name": "python",
   "nbconvert_exporter": "python",
   "pygments_lexer": "ipython3",
   "version": "3.8.8"
  },
  "orig_nbformat": 4
 },
 "nbformat": 4,
 "nbformat_minor": 2
}
