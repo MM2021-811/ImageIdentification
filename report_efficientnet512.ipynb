{
 "cells": [
  {
   "cell_type": "markdown",
   "metadata": {},
   "source": [
    "## EfficientNet - Pretrained"
   ]
  },
  {
   "cell_type": "code",
   "execution_count": 1,
   "metadata": {},
   "outputs": [
    {
     "name": "stdout",
     "output_type": "stream",
     "text": [
      "{\"code\":200,\"msg\":\"success\",\"data\":{\"id\":1,\"name\":\"bottle\"}}\n",
      "Loaded pretrained weights for efficientnet-b0\n",
      "512\n",
      "{\"code\":565,\"msg\":\"space_notexists\"}\n"
     ]
    },
    {
     "name": "stderr",
     "output_type": "stream",
     "text": [
      "INFO 2022-01-16 00:04:15,236 load_bottles 1760438 139688528350592 load_data_to_vearch(./data/zerobox_nobg,efficientnet512)\n"
     ]
    },
    {
     "name": "stdout",
     "output_type": "stream",
     "text": [
      "b'{\"code\":200,\"msg\":\"success\",\"data\":{\"id\":1,\"name\":\"efficientnet512\",\"version\":2,\"db_id\":1,\"enabled\":true,\"partitions\":[{\"id\":1,\"space_id\":1,\"db_id\":1,\"partition_slot\":0,\"replicas\":[1]},{\"id\":2,\"space_id\":1,\"db_id\":1,\"partition_slot\":107374182,\"replicas\":[1]},{\"id\":3,\"space_id\":1,\"db_id\":1,\"partition_slot\":214748364,\"replicas\":[1]},{\"id\":4,\"space_id\":1,\"db_id\":1,\"partition_slot\":322122546,\"replicas\":[1]},{\"id\":5,\"space_id\":1,\"db_id\":1,\"partition_slot\":429496728,\"replicas\":[1]},{\"id\":6,\"space_id\":1,\"db_id\":1,\"partition_slot\":536870910,\"replicas\":[1]},{\"id\":7,\"space_id\":1,\"db_id\":1,\"partition_slot\":644245092,\"replicas\":[1]},{\"id\":8,\"space_id\":1,\"db_id\":1,\"partition_slot\":751619274,\"replicas\":[1]},{\"id\":9,\"space_id\":1,\"db_id\":1,\"partition_slot\":858993456,\"replicas\":[1]},{\"id\":10,\"space_id\":1,\"db_id\":1,\"partition_slot\":966367638,\"replicas\":[1]},{\"id\":11,\"space_id\":1,\"db_id\":1,\"partition_slot\":1073741820,\"replicas\":[1]},{\"id\":12,\"space_id\":1,\"db_id\":1,\"partition_slot\":1181116002,\"replicas\":[1]},{\"id\":13,\"space_id\":1,\"db_id\":1,\"partition_slot\":1288490184,\"replicas\":[1]},{\"id\":14,\"space_id\":1,\"db_id\":1,\"partition_slot\":1395864366,\"replicas\":[1]},{\"id\":15,\"space_id\":1,\"db_id\":1,\"partition_slot\":1503238548,\"replicas\":[1]},{\"id\":16,\"space_id\":1,\"db_id\":1,\"partition_slot\":1610612730,\"replicas\":[1]},{\"id\":17,\"space_id\":1,\"db_id\":1,\"partition_slot\":1717986912,\"replicas\":[1]},{\"id\":18,\"space_id\":1,\"db_id\":1,\"partition_slot\":1825361094,\"replicas\":[1]},{\"id\":19,\"space_id\":1,\"db_id\":1,\"partition_slot\":1932735276,\"replicas\":[1]},{\"id\":20,\"space_id\":1,\"db_id\":1,\"partition_slot\":2040109458,\"replicas\":[1]},{\"id\":21,\"space_id\":1,\"db_id\":1,\"partition_slot\":2147483640,\"replicas\":[1]},{\"id\":22,\"space_id\":1,\"db_id\":1,\"partition_slot\":2254857822,\"replicas\":[1]},{\"id\":23,\"space_id\":1,\"db_id\":1,\"partition_slot\":2362232004,\"replicas\":[1]},{\"id\":24,\"space_id\":1,\"db_id\":1,\"partition_slot\":2469606186,\"replicas\":[1]},{\"id\":25,\"space_id\":1,\"db_id\":1,\"partition_slot\":2576980368,\"replicas\":[1]},{\"id\":26,\"space_id\":1,\"db_id\":1,\"partition_slot\":2684354550,\"replicas\":[1]},{\"id\":27,\"space_id\":1,\"db_id\":1,\"partition_slot\":2791728732,\"replicas\":[1]},{\"id\":28,\"space_id\":1,\"db_id\":1,\"partition_slot\":2899102914,\"replicas\":[1]},{\"id\":29,\"space_id\":1,\"db_id\":1,\"partition_slot\":3006477096,\"replicas\":[1]},{\"id\":30,\"space_id\":1,\"db_id\":1,\"partition_slot\":3113851278,\"replicas\":[1]},{\"id\":31,\"space_id\":1,\"db_id\":1,\"partition_slot\":3221225460,\"replicas\":[1]},{\"id\":32,\"space_id\":1,\"db_id\":1,\"partition_slot\":3328599642,\"replicas\":[1]},{\"id\":33,\"space_id\":1,\"db_id\":1,\"partition_slot\":3435973824,\"replicas\":[1]},{\"id\":34,\"space_id\":1,\"db_id\":1,\"partition_slot\":3543348006,\"replicas\":[1]},{\"id\":35,\"space_id\":1,\"db_id\":1,\"partition_slot\":3650722188,\"replicas\":[1]},{\"id\":36,\"space_id\":1,\"db_id\":1,\"partition_slot\":3758096370,\"replicas\":[1]},{\"id\":37,\"space_id\":1,\"db_id\":1,\"partition_slot\":3865470552,\"replicas\":[1]},{\"id\":38,\"space_id\":1,\"db_id\":1,\"partition_slot\":3972844734,\"replicas\":[1]},{\"id\":39,\"space_id\":1,\"db_id\":1,\"partition_slot\":4080218916,\"replicas\":[1]},{\"id\":40,\"space_id\":1,\"db_id\":1,\"partition_slot\":4187593098,\"replicas\":[1]}],\"partition_num\":40,\"replica_num\":1,\"properties\":{\"image_name\": {\"type\": \"keyword\", \"index\": true}, \"image\": {\"type\": \"vector\", \"dimension\": 512, \"format\": \"normalization\"}, \"model_name\": {\"type\": \"keyword\", \"index\": true}, \"keyword\": {\"type\": \"keyword\", \"index\": true}, \"tags\": {\"type\": \"string\", \"array\": true, \"index\": true}, \"uuid\": {\"type\": \"keyword\", \"index\": true}, \"sid\": {\"type\": \"keyword\", \"index\": true}},\"engine\":{\"name\":\"gamma\",\"index_size\":70000,\"metric_type\":\"InnerProduct\",\"retrieval_type\":\"IVFPQ\",\"retrieval_param\":{\"metric_type\": \"InnerProduct\", \"ncentroids\": 256, \"nsubvector\": 32},\"id_type\":\"String\"},\"space_properties\":{\"image_name\":{\"field_type\":4,\"type\":\"keyword\",\"index\":true,\"option\":1},\"image\":{\"field_type\":5,\"type\":\"vector\",\"format\":\"normalization\",\"dimension\":512,\"option\":1},\"model_name\":{\"field_type\":4,\"type\":\"keyword\",\"index\":true,\"option\":1},\"keyword\":{\"field_type\":4,\"type\":\"keyword\",\"index\":true,\"option\":1},\"tags\":{\"field_type\":4,\"type\":\"string\",\"index\":true,\"array\":true,\"option\":1},\"uuid\":{\"field_type\":4,\"type\":\"keyword\",\"index\":true,\"option\":1},\"sid\":{\"field_type\":4,\"type\":\"keyword\",\"index\":true,\"option\":1}}}}'\n",
      "b'{\"code\":200,\"msg\":\"success\",\"data\":{\"id\":1,\"name\":\"efficientnet512\",\"version\":2,\"db_id\":1,\"enabled\":true,\"partitions\":[{\"id\":1,\"space_id\":1,\"db_id\":1,\"partition_slot\":0,\"replicas\":[1]},{\"id\":2,\"space_id\":1,\"db_id\":1,\"partition_slot\":107374182,\"replicas\":[1]},{\"id\":3,\"space_id\":1,\"db_id\":1,\"partition_slot\":214748364,\"replicas\":[1]},{\"id\":4,\"space_id\":1,\"db_id\":1,\"partition_slot\":322122546,\"replicas\":[1]},{\"id\":5,\"space_id\":1,\"db_id\":1,\"partition_slot\":429496728,\"replicas\":[1]},{\"id\":6,\"space_id\":1,\"db_id\":1,\"partition_slot\":536870910,\"replicas\":[1]},{\"id\":7,\"space_id\":1,\"db_id\":1,\"partition_slot\":644245092,\"replicas\":[1]},{\"id\":8,\"space_id\":1,\"db_id\":1,\"partition_slot\":751619274,\"replicas\":[1]},{\"id\":9,\"space_id\":1,\"db_id\":1,\"partition_slot\":858993456,\"replicas\":[1]},{\"id\":10,\"space_id\":1,\"db_id\":1,\"partition_slot\":966367638,\"replicas\":[1]},{\"id\":11,\"space_id\":1,\"db_id\":1,\"partition_slot\":1073741820,\"replicas\":[1]},{\"id\":12,\"space_id\":1,\"db_id\":1,\"partition_slot\":1181116002,\"replicas\":[1]},{\"id\":13,\"space_id\":1,\"db_id\":1,\"partition_slot\":1288490184,\"replicas\":[1]},{\"id\":14,\"space_id\":1,\"db_id\":1,\"partition_slot\":1395864366,\"replicas\":[1]},{\"id\":15,\"space_id\":1,\"db_id\":1,\"partition_slot\":1503238548,\"replicas\":[1]},{\"id\":16,\"space_id\":1,\"db_id\":1,\"partition_slot\":1610612730,\"replicas\":[1]},{\"id\":17,\"space_id\":1,\"db_id\":1,\"partition_slot\":1717986912,\"replicas\":[1]},{\"id\":18,\"space_id\":1,\"db_id\":1,\"partition_slot\":1825361094,\"replicas\":[1]},{\"id\":19,\"space_id\":1,\"db_id\":1,\"partition_slot\":1932735276,\"replicas\":[1]},{\"id\":20,\"space_id\":1,\"db_id\":1,\"partition_slot\":2040109458,\"replicas\":[1]},{\"id\":21,\"space_id\":1,\"db_id\":1,\"partition_slot\":2147483640,\"replicas\":[1]},{\"id\":22,\"space_id\":1,\"db_id\":1,\"partition_slot\":2254857822,\"replicas\":[1]},{\"id\":23,\"space_id\":1,\"db_id\":1,\"partition_slot\":2362232004,\"replicas\":[1]},{\"id\":24,\"space_id\":1,\"db_id\":1,\"partition_slot\":2469606186,\"replicas\":[1]},{\"id\":25,\"space_id\":1,\"db_id\":1,\"partition_slot\":2576980368,\"replicas\":[1]},{\"id\":26,\"space_id\":1,\"db_id\":1,\"partition_slot\":2684354550,\"replicas\":[1]},{\"id\":27,\"space_id\":1,\"db_id\":1,\"partition_slot\":2791728732,\"replicas\":[1]},{\"id\":28,\"space_id\":1,\"db_id\":1,\"partition_slot\":2899102914,\"replicas\":[1]},{\"id\":29,\"space_id\":1,\"db_id\":1,\"partition_slot\":3006477096,\"replicas\":[1]},{\"id\":30,\"space_id\":1,\"db_id\":1,\"partition_slot\":3113851278,\"replicas\":[1]},{\"id\":31,\"space_id\":1,\"db_id\":1,\"partition_slot\":3221225460,\"replicas\":[1]},{\"id\":32,\"space_id\":1,\"db_id\":1,\"partition_slot\":3328599642,\"replicas\":[1]},{\"id\":33,\"space_id\":1,\"db_id\":1,\"partition_slot\":3435973824,\"replicas\":[1]},{\"id\":34,\"space_id\":1,\"db_id\":1,\"partition_slot\":3543348006,\"replicas\":[1]},{\"id\":35,\"space_id\":1,\"db_id\":1,\"partition_slot\":3650722188,\"replicas\":[1]},{\"id\":36,\"space_id\":1,\"db_id\":1,\"partition_slot\":3758096370,\"replicas\":[1]},{\"id\":37,\"space_id\":1,\"db_id\":1,\"partition_slot\":3865470552,\"replicas\":[1]},{\"id\":38,\"space_id\":1,\"db_id\":1,\"partition_slot\":3972844734,\"replicas\":[1]},{\"id\":39,\"space_id\":1,\"db_id\":1,\"partition_slot\":4080218916,\"replicas\":[1]},{\"id\":40,\"space_id\":1,\"db_id\":1,\"partition_slot\":4187593098,\"replicas\":[1]}],\"partition_num\":40,\"replica_num\":1,\"properties\":{\"image_name\":{\"type\":\"keyword\",\"index\":true},\"image\":{\"type\":\"vector\",\"dimension\":512,\"format\":\"normalization\"},\"model_name\":{\"type\":\"keyword\",\"index\":true},\"keyword\":{\"type\":\"keyword\",\"index\":true},\"tags\":{\"type\":\"string\",\"array\":true,\"index\":true},\"uuid\":{\"type\":\"keyword\",\"index\":true},\"sid\":{\"type\":\"keyword\",\"index\":true}},\"engine\":{\"name\":\"gamma\",\"index_size\":70000,\"metric_type\":\"InnerProduct\",\"retrieval_type\":\"IVFPQ\",\"retrieval_param\":{\"metric_type\":\"InnerProduct\",\"ncentroids\":256,\"nsubvector\":32},\"id_type\":\"String\"},\"space_properties\":{\"image\":{\"field_type\":5,\"type\":\"vector\",\"format\":\"normalization\",\"dimension\":512,\"option\":1},\"image_name\":{\"field_type\":4,\"type\":\"keyword\",\"index\":true,\"option\":1},\"keyword\":{\"field_type\":4,\"type\":\"keyword\",\"index\":true,\"option\":1},\"model_name\":{\"field_type\":4,\"type\":\"keyword\",\"index\":true,\"option\":1},\"sid\":{\"field_type\":4,\"type\":\"keyword\",\"index\":true,\"option\":1},\"tags\":{\"field_type\":4,\"type\":\"string\",\"index\":true,\"array\":true,\"option\":1},\"uuid\":{\"field_type\":4,\"type\":\"keyword\",\"index\":true,\"option\":1}}}}'\n",
      "Loaded pretrained weights for efficientnet-b0\n"
     ]
    }
   ],
   "source": [
    "from util.load_bottles import load_data_to_vearch\n",
    "from init_vearch_local import create_space,delete_space,create_db\n",
    "from util.vearchutil import VearchUtil\n",
    "\n",
    "db_name=\"bottle\"\n",
    "create_db(db_name)\n",
    "\n",
    "model_name = \"efficientnet512\"\n",
    "image_name = \"./data/zerobox/images/blackbottles/00001.png\"\n",
    "util = VearchUtil(model_name=model_name)\n",
    "item = util.extract_feature(image=image_name)\n",
    "feature_dim = len(item)\n",
    "print(feature_dim)\n",
    "\n",
    "delete_space(\"bottle\",model_name)\n",
    "create_space(\"bottle\",model_name,feature_dim=feature_dim,partition=40)\n",
    "load_data_to_vearch(data_path=\"./data/zerobox_nobg\", model_name=model_name)"
   ]
  },
  {
   "cell_type": "code",
   "execution_count": 3,
   "metadata": {},
   "outputs": [
    {
     "name": "stderr",
     "output_type": "stream",
     "text": [
      "INFO 2022-01-16 00:04:42,586 testutil 1760438 139688528350592 TestUtil test efficientnet512\n"
     ]
    },
    {
     "name": "stdout",
     "output_type": "stream",
     "text": [
      "Loaded pretrained weights for efficientnet-b0\n",
      "'Final accuracy: 0.16'\n",
      "              babyblue01  babyblue02  beige01  blackbottles  blackcup  \\\n",
      "babyblue01           0.0         0.0      0.0           0.0       0.0   \n",
      "babyblue02           0.0         0.0      0.0           0.0       0.0   \n",
      "beige01              0.0         0.0      0.0           0.0       0.0   \n",
      "blackbottles         0.0         0.0      0.0           0.0       0.0   \n",
      "blackcup             0.0         0.0      0.0           0.0       0.0   \n",
      "blacktumbler         0.0         0.0      0.0           0.0       0.0   \n",
      "blue                 0.0         0.0      0.0           0.0       0.0   \n",
      "lavender01           0.0         0.0      0.0           0.0       0.0   \n",
      "notfound             0.0         0.0      0.0           0.0       0.0   \n",
      "red01                0.0         0.0      0.0           0.0       0.0   \n",
      "red02                0.0         0.0      0.0           0.0       0.0   \n",
      "silver               0.0         0.0      0.0           0.0       0.0   \n",
      "white                0.0         0.0      0.0           0.0       0.0   \n",
      "white01              0.0         0.0      0.0           0.0       0.0   \n",
      "white02              0.0         0.0      0.0           0.0       0.0   \n",
      "white03              0.0         0.0      0.0           0.0       0.0   \n",
      "whitecup             0.0         0.0      0.0           0.0       0.0   \n",
      "yellow02             0.0         0.0      0.0           0.0       0.0   \n",
      "yellow03             0.0         0.0      0.0           0.0       0.0   \n",
      "\n",
      "              blacktumbler  blue  lavender01  notfound  red01  red02  silver  \\\n",
      "babyblue01             1.0   0.0         0.0       0.0    0.0    0.0     0.0   \n",
      "babyblue02             1.0   0.0         0.0       0.0    0.0    0.0     0.0   \n",
      "beige01                0.0   1.0         0.0       0.0    0.0    1.0     0.0   \n",
      "blackbottles           1.0   0.0         0.0       0.0    0.0    0.0     3.0   \n",
      "blackcup               1.0   0.0         0.0       0.0    0.0    0.0     0.0   \n",
      "blacktumbler           1.0   0.0         0.0       0.0    0.0    0.0     0.0   \n",
      "blue                   0.0   1.0         0.0       0.0    0.0    0.0     0.0   \n",
      "lavender01             0.0   0.0         0.0       0.0    0.0    1.0     0.0   \n",
      "notfound               0.0   0.0         0.0       0.0    0.0    0.0     0.0   \n",
      "red01                  0.0   0.0         0.0       0.0    0.0    2.0     0.0   \n",
      "red02                  0.0   1.0         0.0       0.0    0.0    1.0     0.0   \n",
      "silver                 0.0   0.0         0.0       0.0    0.0    0.0     1.0   \n",
      "white                  1.0   0.0         0.0       0.0    0.0    0.0     1.0   \n",
      "white01                1.0   0.0         0.0       0.0    0.0    0.0     0.0   \n",
      "white02                0.0   1.0         0.0       0.0    0.0    0.0     0.0   \n",
      "white03                0.0   1.0         0.0       0.0    0.0    0.0     0.0   \n",
      "whitecup               1.0   0.0         0.0       0.0    0.0    0.0     0.0   \n",
      "yellow02               0.0   1.0         0.0       0.0    0.0    0.0     0.0   \n",
      "yellow03               1.0   0.0         0.0       0.0    0.0    0.0     0.0   \n",
      "\n",
      "              white  white01  white02  white03  whitecup  yellow02  yellow03  \n",
      "babyblue01      0.0      0.0      0.0      0.0       0.0       0.0       0.0  \n",
      "babyblue02      0.0      0.0      0.0      0.0       0.0       0.0       0.0  \n",
      "beige01         0.0      0.0      0.0      0.0       0.0       0.0       0.0  \n",
      "blackbottles    0.0      0.0      0.0      0.0       0.0       0.0       0.0  \n",
      "blackcup        0.0      0.0      0.0      0.0       0.0       0.0       0.0  \n",
      "blacktumbler    0.0      0.0      0.0      0.0       0.0       0.0       0.0  \n",
      "blue            0.0      0.0      0.0      0.0       0.0       0.0       0.0  \n",
      "lavender01      0.0      0.0      0.0      0.0       0.0       0.0       0.0  \n",
      "notfound        0.0      0.0      0.0      0.0       0.0       0.0       0.0  \n",
      "red01           0.0      0.0      0.0      0.0       0.0       0.0       0.0  \n",
      "red02           0.0      0.0      0.0      0.0       0.0       0.0       0.0  \n",
      "silver          0.0      0.0      0.0      0.0       0.0       0.0       0.0  \n",
      "white           0.0      0.0      0.0      0.0       0.0       0.0       0.0  \n",
      "white01         0.0      0.0      0.0      0.0       0.0       0.0       0.0  \n",
      "white02         0.0      0.0      0.0      0.0       0.0       0.0       0.0  \n",
      "white03         0.0      0.0      0.0      0.0       0.0       0.0       0.0  \n",
      "whitecup        0.0      0.0      0.0      0.0       0.0       0.0       0.0  \n",
      "yellow02        0.0      0.0      0.0      0.0       0.0       0.0       0.0  \n",
      "yellow03        0.0      0.0      0.0      0.0       0.0       0.0       0.0  \n",
      "Wrong results:\n",
      "['./data/zerobox_nobg/images/babyblue01/output0078.png',\n",
      " './data/zerobox_nobg/images/babyblue02/bumbler0018.png',\n",
      " './data/zerobox_nobg/images/beige01/output0074.png',\n",
      " './data/zerobox_nobg/images/beige01/output0072.png',\n",
      " './data/zerobox_nobg/images/blackbottles/000043.png',\n",
      " './data/zerobox_nobg/images/blackbottles/000044.png',\n",
      " './data/zerobox_nobg/images/blackbottles/000047.png',\n",
      " './data/zerobox_nobg/images/blackbottles/000051.png',\n",
      " './data/zerobox_nobg/images/blackcup/00008.png',\n",
      " './data/zerobox_nobg/images/lavender01/output0090.png',\n",
      " './data/zerobox_nobg/images/red01/output0031.png',\n",
      " './data/zerobox_nobg/images/red01/output0032.png',\n",
      " './data/zerobox_nobg/images/red02/output0038.png',\n",
      " './data/zerobox_nobg/images/white/00005.png',\n",
      " './data/zerobox_nobg/images/white/00008.png',\n",
      " './data/zerobox_nobg/images/white01/bumbler0011.png',\n",
      " './data/zerobox_nobg/images/white02/output0065.png',\n",
      " './data/zerobox_nobg/images/white03/output0065.png',\n",
      " './data/zerobox_nobg/images/whitecup/00008.png',\n",
      " './data/zerobox_nobg/images/yellow02/output0073.png',\n",
      " './data/zerobox_nobg/images/yellow03/bumbler0022.png']\n"
     ]
    }
   ],
   "source": [
    "from util.testutil import TestUtil\n",
    "from pprint import pprint\n",
    "import numpy as np\n",
    "\n",
    "# batch test results\n",
    "testutil = TestUtil(model_name=\"efficientnet512\",data_path=\"./data/zerobox_nobg\")\n",
    "(accuracy, cmatrix,wrong_results) = testutil.test()\n",
    "\n",
    "\n",
    "# np.savetxt(\"./alexnet_cmatrix.csv\",cmatrix.astype(\"int\"),delimiter=',',fmt=\"%d\")\n",
    "\n",
    "cmatrix.to_csv(\"./efficientnet512_cmatrix.csv\")\n",
    "\n",
    "pprint(f\"Final accuracy: {accuracy}\")\n",
    "pprint(cmatrix)\n",
    "print(\"Wrong results:\")\n",
    "pprint(wrong_results)"
   ]
  }
 ],
 "metadata": {
  "interpreter": {
   "hash": "a4508d0e2e0be84e90ff361a3824194c554edc39894d10f09a30d81ec9c033e6"
  },
  "kernelspec": {
   "display_name": "Python 3.8.10 64-bit ('.venv': venv)",
   "language": "python",
   "name": "python3"
  },
  "language_info": {
   "codemirror_mode": {
    "name": "ipython",
    "version": 3
   },
   "file_extension": ".py",
   "mimetype": "text/x-python",
   "name": "python",
   "nbconvert_exporter": "python",
   "pygments_lexer": "ipython3",
   "version": "3.8.8"
  },
  "orig_nbformat": 4
 },
 "nbformat": 4,
 "nbformat_minor": 2
}
