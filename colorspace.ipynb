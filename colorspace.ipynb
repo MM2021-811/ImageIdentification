{
 "cells": [
  {
   "cell_type": "markdown",
   "metadata": {},
   "source": [
    "# related articles\n",
    "\n",
    "LAB Intro\n",
    "1. https://rawpedia.rawtherapee.com/RGB_and_Lab\n",
    "\n",
    "\n",
    "Auto color correction  \n",
    "[paper](https://arxiv.org/pdf/1910.13688v1.pdf)\n",
    "[code](https://github.com/pvnieo/Low-light-Image-Enhancement)\n",
    "\n",
    "\n",
    "[Gmlight](https://paperswithcode.com/paper/gmlight-lighting-estimation-via-geometric)\n",
    "\n"
   ]
  },
  {
   "cell_type": "markdown",
   "metadata": {},
   "source": [
    "# Ideas\n",
    "\n",
    "## Idea 1\n",
    "change image to LAB color space and adjust light to same value before extract the features\n",
    "\n"
   ]
  },
  {
   "cell_type": "code",
   "execution_count": null,
   "metadata": {},
   "outputs": [],
   "source": [
    "\n",
    "# 0 = 90CounterCLockwise and Vertical Flip (default)\n",
    "# 1 = 90Clockwise\n",
    "# 2 = 90CounterClockwise\n",
    "# 3 = 90Clockwise and Vertical Flip\n",
    "\n",
    "# ! rm ./data/video/tmp/*\n",
    "# ! ffmpeg -i ./data/video/1.avi  -vf \"fps=1,transpose=1\" ./data/video/tmp/output%04d.png\n"
   ]
  },
  {
   "cell_type": "markdown",
   "metadata": {},
   "source": [
    "# Test Color correction"
   ]
  },
  {
   "cell_type": "markdown",
   "metadata": {},
   "source": []
  },
  {
   "cell_type": "code",
   "execution_count": null,
   "metadata": {},
   "outputs": [],
   "source": [
    "# test color correction\n",
    "# 3p\n",
    "import cv2\n",
    "from tqdm import tqdm\n",
    "# project\n",
    "from util.exposure_enhancement import enhance_image_exposure\n",
    "import matplotlib.pyplot as plt\n",
    "import numpy as np\n",
    "\n",
    "image_name = './data/zerobox_light/images/babyblue01/output0079.png'\n",
    "image = cv2.imread(image_name)\n",
    "image = cv2.cvtColor(image, cv2.COLOR_BGR2RGB)\n",
    "\n",
    "plt.imshow(image)\n",
    "plt.title(\"org\")\n",
    "plt.show()\n",
    "\n",
    "gamma = 0.6\n",
    "lambda_ = 0.15\n",
    "sigma=3\n",
    "bc =1\n",
    "bs=1\n",
    "be = 1\n",
    "eps = 1e-3\n",
    "\n",
    "# correct color\n",
    "# enhanced_image = enhance_image_exposure(image, gamma, lambda_, dual=True,\n",
    "#                                 sigma=sigma, bc=bc, bs=bs, be=be, eps=eps)\n",
    "\n",
    "# plt.imshow(enhanced_image)\n",
    "# plt.title(\"enhanced_image\")\n",
    "# plt.show()\n"
   ]
  },
  {
   "cell_type": "code",
   "execution_count": null,
   "metadata": {},
   "outputs": [],
   "source": [
    "# enhanced_image2 = cv2.cvtColor(enhanced_image, cv2.COLOR_BGR2RGB)\n",
    "# cv2.imwrite(\"enhanced_bottle.png\",enhanced_image2)"
   ]
  },
  {
   "cell_type": "code",
   "execution_count": null,
   "metadata": {},
   "outputs": [],
   "source": [
    "import cv2\n",
    "from util.vearchutil import VearchUtil\n",
    "from util.testutil import TestUtil\n",
    "from pprint import pprint\n",
    "from util.trainingutil import AlphaBgTransform\n",
    "\n",
    "model_name = \"vgg16\"\n",
    "image_name = \"./enhanced_bottle.png\"\n",
    "util = VearchUtil(model_name=model_name)\n",
    "item = util.search_by_image(image=image_name)\n",
    "\n",
    "pprint(item)\n",
    "\n",
    "image = cv2.imread(image_name)\n",
    "image = cv2.cvtColor(image, cv2.COLOR_BGR2RGB)\n",
    "\n",
    "image2 = cv2.imread(item[\"data\"][\"image_name\"])\n",
    "image2 = cv2.cvtColor(image2, cv2.COLOR_BGR2RGB)\n",
    "\n",
    "TestUtil.plot_images([image,image2])\n"
   ]
  },
  {
   "cell_type": "code",
   "execution_count": null,
   "metadata": {},
   "outputs": [],
   "source": [
    "import cv2\n",
    "import matplotlib.pyplot as plt\n",
    " \n",
    "image_name = './data/zerobox_light/images/babyblue01/output0079.png'\n",
    "img = cv2.imread(image_name)\n",
    "edges = cv2.Canny(img,100,200)\n",
    "image2 = cv2.cvtColor(edges, cv2.COLOR_BGR2RGB)\n",
    "\n",
    "pprint(image2.shape)\n",
    " \n",
    "plt.imshow(image2)\n",
    "plt.show()\n",
    " \n"
   ]
  },
  {
   "cell_type": "code",
   "execution_count": null,
   "metadata": {},
   "outputs": [],
   "source": [
    "import cv2\n",
    "import matplotlib.pyplot as plt\n",
    "import numpy as np\n",
    "from pprint import pprint\n",
    " \n",
    "image_name = './data/zerobox_light/images/babyblue01/output0079.png'\n",
    "image = cv2.imread(image_name)\n",
    "image = cv2.cvtColor(image,cv2.COLOR_BGR2RGB)\n",
    "plt.imshow(image)\n",
    "plt.show()\n",
    "\n",
    "image2 = cv2.cvtColor(image, cv2.COLOR_RGB2LAB)\n",
    "pprint(image.shape)\n",
    "\n",
    "min = np.min(image2[:,:,0])\n",
    "max = np.max(image2[:,:,0])\n",
    "mean = np.mean(image2[:,:,0])\n",
    "pprint((min,max,mean))\n",
    "image2 = image2.astype(\"float32\")\n",
    "\n",
    "image2[:,:,0] *= (180.0/mean)\n",
    "image2[image2[:,:,0] > 255,0 ] = 255 \n",
    "\n",
    "image2 = image2.astype(\"uint8\")\n",
    "image3 = cv2.cvtColor(image2,cv2.COLOR_Lab2RGB)\n",
    "\n",
    "plt.imshow(image3)\n",
    "plt.show()\n",
    "plt.imsave(\"color_corrected.png\",image3)\n",
    " "
   ]
  },
  {
   "cell_type": "code",
   "execution_count": null,
   "metadata": {},
   "outputs": [],
   "source": [
    "import cv2\n",
    "import matplotlib.pyplot as plt\n",
    "from util.vearchutil import VearchUtil\n",
    " \n",
    "\n",
    "model_name = \"vgg16\"\n",
    "image_name = './color_corrected.png'\n",
    "util = VearchUtil(model_name=model_name)\n",
    "item = util.search_by_image(image=image_name)\n",
    "\n",
    "pprint(item)\n",
    "\n",
    "image = cv2.imread(image_name)\n",
    "image = cv2.cvtColor(image, cv2.COLOR_BGR2RGB)\n",
    "\n",
    "image2 = cv2.imread(item[\"data\"][\"image_name\"])\n",
    "image2 = cv2.cvtColor(image2, cv2.COLOR_BGR2RGB)\n",
    "\n",
    "TestUtil.plot_images([image,image2])"
   ]
  },
  {
   "cell_type": "code",
   "execution_count": null,
   "metadata": {},
   "outputs": [],
   "source": [
    "from util.testutil import TestUtil\n",
    "import cv2\n",
    "import matplotlib.pyplot as plt\n",
    "\n",
    "model_name = \"vgg16\"\n",
    "image_name = './data/zerobox_light/images/babyblue01/output0079.png'\n",
    "\n",
    "wrong_images = ['./data/zerobox_light/images/babyblue01/output0079.png',\n",
    " './data/zerobox_light/images/beige01/output0072.png',\n",
    " './data/zerobox_light/images/lavender01/output0084.png',\n",
    " './data/zerobox_light/images/white02/output0064.png',\n",
    " './data/zerobox_light/images/yellow03/bumbler0021.png',\n",
    " './data/zerobox_light/images/yellow03/bumbler0022.png']\n",
    "\n",
    "testUtil = TestUtil(model_name)\n",
    "cnt_correct = 0\n",
    "for image_name in wrong_images:\n",
    "    (correct,images) = testUtil.test_color_correction(image_name=image_name)\n",
    "    if correct is True:\n",
    "        cnt_correct += 1\n",
    "\n",
    "    TestUtil.plot_images(images)\n",
    "\n",
    "print(f\"result {cnt_correct}/{len(wrong_images)}\")"
   ]
  },
  {
   "cell_type": "markdown",
   "metadata": {},
   "source": [
    "# test background removal"
   ]
  },
  {
   "cell_type": "code",
   "execution_count": null,
   "metadata": {},
   "outputs": [],
   "source": [
    "# !pip install rembg"
   ]
  },
  {
   "cell_type": "code",
   "execution_count": null,
   "metadata": {},
   "outputs": [],
   "source": [
    "from rembg.bg import remove\n",
    "import numpy as np\n",
    "from util.vearchutil import VearchUtil\n",
    "from util.testutil import TestUtil\n",
    "import cv2\n",
    "import matplotlib.pyplot as plt\n",
    "from PIL import Image\n",
    "import io\n",
    "from pprint import pprint\n",
    "\n",
    "wrong_images = ['./data/zerobox_light/images/babyblue01/output0079.png',\n",
    " './data/zerobox_light/images/beige01/output0072.png',\n",
    " './data/zerobox_light/images/lavender01/output0084.png',\n",
    " './data/zerobox_light/images/white02/output0064.png',\n",
    " './data/zerobox_light/images/yellow03/bumbler0021.png',\n",
    " './data/zerobox_light/images/yellow03/bumbler0022.png']\n",
    "\n",
    "\n",
    "wrong_images = ['./data/zerobox_nobg/images/blackbottles/000037.png',\n",
    " './data/zerobox_nobg/images/white02/output0064.png',\n",
    " './data/zerobox_nobg/images/white02/output0065.png',\n",
    " './data/zerobox_nobg/images/white03/output0065.png',\n",
    " './data/zerobox_nobg/images/yellow03/bumbler0021.png',\n",
    " './data/zerobox_nobg/images/yellow03/bumbler0022.png']\n",
    "\n",
    "\n",
    "f = np.fromfile(wrong_images[1])\n",
    "result = remove(f)\n",
    "image = Image.open(io.BytesIO(result)).convert(\"RGBA\")\n",
    "image.save(\"bg_removed.png\")\n",
    "\n",
    "plt.imshow(image)\n",
    "plt.show()\n",
    "\n",
    "# # pil_image = PIL.Image.open('image.jpg')\n",
    "# opencvImage = cv2.cvtColor(numpy.array(pil_image), cv2.COLOR_RGB2BGR)\n",
    "model_name = \"vgg16\"\n",
    "vearchutil = VearchUtil(model_name)\n",
    "testUtil = TestUtil(model_name)\n",
    "images = []\n",
    "\n",
    "cnt_correct = 0\n",
    "for image_name in wrong_images:\n",
    "    image = testUtil.remove_bg(image_name)\n",
    "    \n",
    "    # images.append(image)\n",
    "    sid = image_name.split('/')[-2]\n",
    "    item = vearchutil.search_by_image(image=image)\n",
    "\n",
    "    pprint(f\"{sid}: {item['data']['sid']}\")\n",
    "    if sid == item[\"data\"][\"sid\"]:\n",
    "        cnt_correct += 1\n",
    "\n",
    "    image = cv2.cvtColor(image,cv2.COLOR_BGR2RGB)\n",
    "    plt.imshow(image)\n",
    "    plt.show()\n",
    "\n",
    "print(f\"result: {cnt_correct}/{len(wrong_images)}\")"
   ]
  },
  {
   "cell_type": "code",
   "execution_count": null,
   "metadata": {},
   "outputs": [],
   "source": [
    "# from util.load_bottles import create_nobg_dataset\n",
    "\n",
    "# create_nobg_dataset()"
   ]
  },
  {
   "cell_type": "code",
   "execution_count": null,
   "metadata": {},
   "outputs": [],
   "source": [
    "from rembg.bg import remove\n",
    "import numpy as np\n",
    "from util.vearchutil import VearchUtil\n",
    "from util.testutil import TestUtil\n",
    "import cv2\n",
    "import matplotlib.pyplot as plt\n",
    "from PIL import Image\n",
    "import io\n",
    "from pprint import pprint\n",
    "\n",
    "\n",
    "\n",
    "wrong_images = ['./data/zerobox_nobg/images/blackbottles/000037.png',\n",
    " './data/zerobox_nobg/images/white02/output0064.png',\n",
    " './data/zerobox_nobg/images/white02/output0065.png',\n",
    " './data/zerobox_nobg/images/white03/output0065.png',\n",
    " './data/zerobox_nobg/images/yellow03/bumbler0021.png',\n",
    " './data/zerobox_nobg/images/yellow03/bumbler0022.png']\n",
    "\n",
    "f = np.fromfile(wrong_images[1])\n",
    "result = remove(f,alpha_matting=True)\n",
    "image = Image.open(io.BytesIO(result)).convert(\"RGBA\")\n",
    "image.save(\"bg_removed.png\")\n",
    "\n",
    "plt.imshow(image)\n",
    "plt.show()\n",
    "\n",
    "# # pil_image = PIL.Image.open('image.jpg')\n",
    "# opencvImage = cv2.cvtColor(np.array(image), cv2.COLOR_RGBA2BGRA)\n",
    "\n",
    "opencvImage = cv2.imread('bg_removed.png', cv2.IMREAD_UNCHANGED)\n",
    "opencvImage = cv2.cvtColor(opencvImage,cv2.COLOR_BGRA2RGBA)\n",
    "\n",
    "print(opencvImage[:,:,3])\n",
    "\n",
    "\n",
    "\n",
    "plt.imshow(opencvImage)\n",
    "plt.show()\n",
    "\n",
    "arr2 = opencvImage[:,:,3]"
   ]
  },
  {
   "cell_type": "code",
   "execution_count": 1,
   "metadata": {},
   "outputs": [
    {
     "data": {
      "image/png": "[encoded data removed]",
      "text/plain": [
       "<Figure size 432x288 with 4 Axes>"
      ]
     },
     "metadata": {},
     "output_type": "display_data"
    }
   ],
   "source": [
    "import cv2\n",
    "from util.vearchutil import VearchUtil\n",
    "from util.testutil import TestUtil\n",
    "from pprint import pprint\n",
    "from util.trainingutil import AlphaBgTransform\n",
    "import matplotlib.pyplot as plt\n",
    "\n",
    "wrong_images = ['./data/zerobox_nobg/images/blackbottles/000037.png',\n",
    " './data/zerobox_nobg/images/white02/output0064.png',\n",
    " './data/zerobox_nobg/images/white02/output0065.png',\n",
    " './data/zerobox_nobg/images/white03/output0065.png',\n",
    " './data/zerobox_nobg/images/yellow03/bumbler0021.png',\n",
    " './data/zerobox_nobg/images/yellow03/bumbler0022.png']\n",
    "\n",
    "model_name = \"vgg16\"\n",
    "image_name = wrong_images[1]\n",
    "image = cv2.imread(image_name,cv2.IMREAD_UNCHANGED)\n",
    "\n",
    "\n",
    "t1 = AlphaBgTransform.center_crop(image)\n",
    "\n",
    "# plt.imshow(t1)\n",
    "# plt.show()\n",
    "\n",
    "t2 = AlphaBgTransform.to_square(t1)\n",
    "t3 = AlphaBgTransform.resize(t2,224)\n",
    "t4 = AlphaBgTransform.enhance_color(t3)\n",
    "\n",
    "TestUtil.plot_images([t1,t2,t3,t4])"
   ]
  },
  {
   "cell_type": "code",
   "execution_count": 4,
   "metadata": {},
   "outputs": [
    {
     "data": {
      "image/png": "[encoded data removed]",
      "text/plain": [
       "<Figure size 432x288 with 1 Axes>"
      ]
     },
     "metadata": {
      "needs_background": "light"
     },
     "output_type": "display_data"
    },
    {
     "data": {
      "image/png": "[encoded data removed]",
      "text/plain": [
       "<Figure size 432x288 with 1 Axes>"
      ]
     },
     "metadata": {
      "needs_background": "light"
     },
     "output_type": "display_data"
    }
   ],
   "source": [
    "# get exposure channel\n",
    "from util.exposure_enhancement import get_under_n_over_channel\n",
    "\n",
    "(c1, c2) = get_under_n_over_channel(im = t3[:,:,:-1])\n",
    "\n",
    "plt.imshow(c1)\n",
    "plt.show()\n",
    "\n",
    "plt.imshow(c2)\n",
    "plt.show()"
   ]
  }
 ],
 "metadata": {
  "interpreter": {
   "hash": "a4508d0e2e0be84e90ff361a3824194c554edc39894d10f09a30d81ec9c033e6"
  },
  "kernelspec": {
   "display_name": "Python 3.8.10 64-bit ('.venv': venv)",
   "language": "python",
   "name": "python3"
  },
  "language_info": {
   "codemirror_mode": {
    "name": "ipython",
    "version": 3
   },
   "file_extension": ".py",
   "mimetype": "text/x-python",
   "name": "python",
   "nbconvert_exporter": "python",
   "pygments_lexer": "ipython3",
   "version": "3.8.10"
  },
  "orig_nbformat": 4
 },
 "nbformat": 4,
 "nbformat_minor": 2
}
