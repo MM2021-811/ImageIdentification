{
 "cells": [
  {
   "cell_type": "code",
   "execution_count": 14,
   "metadata": {},
   "outputs": [],
   "source": [
    "class Dictlist(dict):\n",
    "    def __setitem__(self, key, value):\n",
    "        try:\n",
    "            self[key]\n",
    "        except KeyError:\n",
    "            super(Dictlist, self).__setitem__(key, [])\n",
    "        self[key].append(value)\n",
    "\n",
    "def unpickle(file):\n",
    "    import pickle\n",
    "    with open(file, 'rb') as fo:\n",
    "        dict = pickle.load(fo, encoding='bytes')\n",
    "    return dict\n",
    "\n",
    "x=unpickle('./data/cifar-100-python/train')\n",
    "\n",
    "fine_to_coarse=Dictlist()\n",
    "for i in range(0,len(x[b'coarse_labels'])):\n",
    "    fine_to_coarse[x[b'coarse_labels'][i]]=x[ b'fine_labels'][i]\n",
    "    d=dict(fine_to_coarse)\n",
    "\n",
    "for i in d.keys():\n",
    "    d[i]=list(dict.fromkeys(d[i]))"
   ]
  },
  {
   "cell_type": "code",
   "execution_count": 15,
   "metadata": {},
   "outputs": [
    {
     "name": "stdout",
     "output_type": "stream",
     "text": [
      "Sub classes for Super class  0: 55,72,95,4,30,\n",
      "Sub classes for Super class  1: 1,73,32,67,91,\n",
      "Sub classes for Super class  2: 82,70,92,62,54,\n",
      "Sub classes for Super class  3: 28,9,61,10,16,\n",
      "Sub classes for Super class  4: 0,51,83,53,57,\n",
      "Sub classes for Super class  5: 86,39,87,22,40,\n",
      "Sub classes for Super class  6: 84,20,94,25,5,\n",
      "Sub classes for Super class  7: 24,14,6,18,7,\n",
      "Sub classes for Super class  8: 97,42,43,88,3,\n",
      "Sub classes for Super class  9: 17,76,68,12,37,\n",
      "Sub classes for Super class  10: 23,71,49,33,60,\n",
      "Sub classes for Super class  11: 19,31,21,15,38,\n",
      "Sub classes for Super class  12: 64,75,66,34,63,\n",
      "Sub classes for Super class  13: 45,77,99,26,79,\n",
      "Sub classes for Super class  14: 11,98,35,46,2,\n",
      "Sub classes for Super class  15: 29,78,27,93,44,\n",
      "Sub classes for Super class  16: 80,74,65,36,50,\n",
      "Sub classes for Super class  17: 96,59,52,47,56,\n",
      "Sub classes for Super class  18: 90,8,48,13,58,\n",
      "Sub classes for Super class  19: 81,89,69,85,41,\n"
     ]
    }
   ],
   "source": [
    "for i in range(0,20):\n",
    "    print(\"Sub classes for Super class \",i,end=': ')\n",
    "    for j in d[i]:\n",
    "        print(j,end=',')\n",
    "    print(\"\")"
   ]
  },
  {
   "cell_type": "code",
   "execution_count": 9,
   "metadata": {},
   "outputs": [
    {
     "name": "stdout",
     "output_type": "stream",
     "text": [
      "unpickle(./data/cifar-100-python/train)\n"
     ]
    }
   ],
   "source": [
    "print(f'unpickle(./data/cifar-100-python/train)')"
   ]
  }
 ],
 "metadata": {
  "interpreter": {
   "hash": "640fe5c013a4ef0e8c0693a75252d173be7045ff31937e56a1841486f31312e9"
  },
  "kernelspec": {
   "display_name": "Python 3.8.8 64-bit ('.venv': venv)",
   "language": "python",
   "name": "python3"
  },
  "language_info": {
   "codemirror_mode": {
    "name": "ipython",
    "version": 3
   },
   "file_extension": ".py",
   "mimetype": "text/x-python",
   "name": "python",
   "nbconvert_exporter": "python",
   "pygments_lexer": "ipython3",
   "version": "3.8.8"
  },
  "orig_nbformat": 4
 },
 "nbformat": 4,
 "nbformat_minor": 2
}
